{
  "nbformat": 4,
  "nbformat_minor": 0,
  "metadata": {
    "colab": {
      "name": "MLBox_framingham.ipynb",
      "provenance": [],
      "collapsed_sections": [],
      "mount_file_id": "11NF0cWqOiXqYhDh6WiyzEkCrVpjOmjwH",
      "authorship_tag": "ABX9TyOzTowRzKFJinRjHwg9X3p8",
      "include_colab_link": true
    },
    "kernelspec": {
      "name": "python3",
      "display_name": "Python 3"
    }
  },
  "cells": [
    {
      "cell_type": "markdown",
      "metadata": {
        "id": "view-in-github",
        "colab_type": "text"
      },
      "source": [
        "<a href=\"https://colab.research.google.com/github/jigsawcoder/Automated-Machine-Learning-Tools/blob/master/MLBox_framingham.ipynb\" target=\"_parent\"><img src=\"https://colab.research.google.com/assets/colab-badge.svg\" alt=\"Open In Colab\"/></a>"
      ]
    },
    {
      "cell_type": "code",
      "metadata": {
        "id": "8WS5yaD23lhq",
        "colab_type": "code",
        "colab": {
          "base_uri": "https://localhost:8080/",
          "height": 1000
        },
        "outputId": "5f4dbd71-fcea-4c6d-c076-9c4e55eaa558"
      },
      "source": [
        "pip install mlbox"
      ],
      "execution_count": null,
      "outputs": [
        {
          "output_type": "stream",
          "text": [
            "Requirement already satisfied: mlbox in /usr/local/lib/python3.6/dist-packages (0.8.5)\n",
            "Requirement already satisfied: lightgbm==2.3.1 in /usr/local/lib/python3.6/dist-packages (from mlbox) (2.3.1)\n",
            "Requirement already satisfied: matplotlib==3.0.3 in /usr/local/lib/python3.6/dist-packages (from mlbox) (3.0.3)\n",
            "Requirement already satisfied: tables==3.5.2 in /usr/local/lib/python3.6/dist-packages (from mlbox) (3.5.2)\n",
            "Requirement already satisfied: xlrd==1.2.0 in /usr/local/lib/python3.6/dist-packages (from mlbox) (1.2.0)\n",
            "Requirement already satisfied: scikit-learn==0.22.1 in /usr/local/lib/python3.6/dist-packages (from mlbox) (0.22.1)\n",
            "Requirement already satisfied: tensorflow==2.0.0 in /usr/local/lib/python3.6/dist-packages (from mlbox) (2.0.0)\n",
            "Requirement already satisfied: hyperopt==0.2.3 in /usr/local/lib/python3.6/dist-packages (from mlbox) (0.2.3)\n",
            "Requirement already satisfied: joblib==0.14.1 in /usr/local/lib/python3.6/dist-packages (from mlbox) (0.14.1)\n",
            "Requirement already satisfied: numpy==1.18.2 in /usr/local/lib/python3.6/dist-packages (from mlbox) (1.18.2)\n",
            "Requirement already satisfied: scipy==1.4.1 in /usr/local/lib/python3.6/dist-packages (from mlbox) (1.4.1)\n",
            "Requirement already satisfied: pandas==0.25.3 in /usr/local/lib/python3.6/dist-packages (from mlbox) (0.25.3)\n",
            "Requirement already satisfied: pyparsing!=2.0.4,!=2.1.2,!=2.1.6,>=2.0.1 in /usr/local/lib/python3.6/dist-packages (from matplotlib==3.0.3->mlbox) (2.4.7)\n",
            "Requirement already satisfied: kiwisolver>=1.0.1 in /usr/local/lib/python3.6/dist-packages (from matplotlib==3.0.3->mlbox) (1.2.0)\n",
            "Requirement already satisfied: cycler>=0.10 in /usr/local/lib/python3.6/dist-packages (from matplotlib==3.0.3->mlbox) (0.10.0)\n",
            "Requirement already satisfied: python-dateutil>=2.1 in /usr/local/lib/python3.6/dist-packages (from matplotlib==3.0.3->mlbox) (2.8.1)\n",
            "Requirement already satisfied: six>=1.9.0 in /usr/local/lib/python3.6/dist-packages (from tables==3.5.2->mlbox) (1.15.0)\n",
            "Requirement already satisfied: numexpr>=2.6.2 in /usr/local/lib/python3.6/dist-packages (from tables==3.5.2->mlbox) (2.7.1)\n",
            "Requirement already satisfied: mock>=2.0 in /usr/local/lib/python3.6/dist-packages (from tables==3.5.2->mlbox) (4.0.2)\n",
            "Requirement already satisfied: grpcio>=1.8.6 in /usr/local/lib/python3.6/dist-packages (from tensorflow==2.0.0->mlbox) (1.31.0)\n",
            "Requirement already satisfied: google-pasta>=0.1.6 in /usr/local/lib/python3.6/dist-packages (from tensorflow==2.0.0->mlbox) (0.2.0)\n",
            "Requirement already satisfied: termcolor>=1.1.0 in /usr/local/lib/python3.6/dist-packages (from tensorflow==2.0.0->mlbox) (1.1.0)\n",
            "Requirement already satisfied: gast==0.2.2 in /usr/local/lib/python3.6/dist-packages (from tensorflow==2.0.0->mlbox) (0.2.2)\n",
            "Requirement already satisfied: astor>=0.6.0 in /usr/local/lib/python3.6/dist-packages (from tensorflow==2.0.0->mlbox) (0.8.1)\n",
            "Requirement already satisfied: opt-einsum>=2.3.2 in /usr/local/lib/python3.6/dist-packages (from tensorflow==2.0.0->mlbox) (3.3.0)\n",
            "Requirement already satisfied: protobuf>=3.6.1 in /usr/local/lib/python3.6/dist-packages (from tensorflow==2.0.0->mlbox) (3.12.4)\n",
            "Requirement already satisfied: tensorboard<2.1.0,>=2.0.0 in /usr/local/lib/python3.6/dist-packages (from tensorflow==2.0.0->mlbox) (2.0.2)\n",
            "Requirement already satisfied: wrapt>=1.11.1 in /usr/local/lib/python3.6/dist-packages (from tensorflow==2.0.0->mlbox) (1.12.1)\n",
            "Requirement already satisfied: keras-preprocessing>=1.0.5 in /usr/local/lib/python3.6/dist-packages (from tensorflow==2.0.0->mlbox) (1.1.2)\n",
            "Requirement already satisfied: wheel>=0.26 in /usr/local/lib/python3.6/dist-packages (from tensorflow==2.0.0->mlbox) (0.35.1)\n",
            "Requirement already satisfied: keras-applications>=1.0.8 in /usr/local/lib/python3.6/dist-packages (from tensorflow==2.0.0->mlbox) (1.0.8)\n",
            "Requirement already satisfied: tensorflow-estimator<2.1.0,>=2.0.0 in /usr/local/lib/python3.6/dist-packages (from tensorflow==2.0.0->mlbox) (2.0.1)\n",
            "Requirement already satisfied: absl-py>=0.7.0 in /usr/local/lib/python3.6/dist-packages (from tensorflow==2.0.0->mlbox) (0.8.1)\n",
            "Requirement already satisfied: future in /usr/local/lib/python3.6/dist-packages (from hyperopt==0.2.3->mlbox) (0.16.0)\n",
            "Requirement already satisfied: cloudpickle in /usr/local/lib/python3.6/dist-packages (from hyperopt==0.2.3->mlbox) (1.3.0)\n",
            "Requirement already satisfied: networkx==2.2 in /usr/local/lib/python3.6/dist-packages (from hyperopt==0.2.3->mlbox) (2.2)\n",
            "Requirement already satisfied: tqdm in /usr/local/lib/python3.6/dist-packages (from hyperopt==0.2.3->mlbox) (4.41.1)\n",
            "Requirement already satisfied: pytz>=2017.2 in /usr/local/lib/python3.6/dist-packages (from pandas==0.25.3->mlbox) (2018.9)\n",
            "Requirement already satisfied: setuptools in /usr/local/lib/python3.6/dist-packages (from protobuf>=3.6.1->tensorflow==2.0.0->mlbox) (49.6.0)\n",
            "Requirement already satisfied: werkzeug>=0.11.15 in /usr/local/lib/python3.6/dist-packages (from tensorboard<2.1.0,>=2.0.0->tensorflow==2.0.0->mlbox) (1.0.1)\n",
            "Requirement already satisfied: requests<3,>=2.21.0 in /usr/local/lib/python3.6/dist-packages (from tensorboard<2.1.0,>=2.0.0->tensorflow==2.0.0->mlbox) (2.23.0)\n",
            "Requirement already satisfied: google-auth-oauthlib<0.5,>=0.4.1 in /usr/local/lib/python3.6/dist-packages (from tensorboard<2.1.0,>=2.0.0->tensorflow==2.0.0->mlbox) (0.4.1)\n",
            "Requirement already satisfied: google-auth<2,>=1.6.3 in /usr/local/lib/python3.6/dist-packages (from tensorboard<2.1.0,>=2.0.0->tensorflow==2.0.0->mlbox) (1.17.2)\n",
            "Requirement already satisfied: markdown>=2.6.8 in /usr/local/lib/python3.6/dist-packages (from tensorboard<2.1.0,>=2.0.0->tensorflow==2.0.0->mlbox) (3.2.2)\n",
            "Requirement already satisfied: h5py in /usr/local/lib/python3.6/dist-packages (from keras-applications>=1.0.8->tensorflow==2.0.0->mlbox) (2.10.0)\n",
            "Requirement already satisfied: decorator>=4.3.0 in /usr/local/lib/python3.6/dist-packages (from networkx==2.2->hyperopt==0.2.3->mlbox) (4.4.2)\n",
            "Requirement already satisfied: idna<3,>=2.5 in /usr/local/lib/python3.6/dist-packages (from requests<3,>=2.21.0->tensorboard<2.1.0,>=2.0.0->tensorflow==2.0.0->mlbox) (2.10)\n",
            "Requirement already satisfied: certifi>=2017.4.17 in /usr/local/lib/python3.6/dist-packages (from requests<3,>=2.21.0->tensorboard<2.1.0,>=2.0.0->tensorflow==2.0.0->mlbox) (2020.6.20)\n",
            "Requirement already satisfied: urllib3!=1.25.0,!=1.25.1,<1.26,>=1.21.1 in /usr/local/lib/python3.6/dist-packages (from requests<3,>=2.21.0->tensorboard<2.1.0,>=2.0.0->tensorflow==2.0.0->mlbox) (1.24.3)\n",
            "Requirement already satisfied: chardet<4,>=3.0.2 in /usr/local/lib/python3.6/dist-packages (from requests<3,>=2.21.0->tensorboard<2.1.0,>=2.0.0->tensorflow==2.0.0->mlbox) (3.0.4)\n",
            "Requirement already satisfied: requests-oauthlib>=0.7.0 in /usr/local/lib/python3.6/dist-packages (from google-auth-oauthlib<0.5,>=0.4.1->tensorboard<2.1.0,>=2.0.0->tensorflow==2.0.0->mlbox) (1.3.0)\n",
            "Requirement already satisfied: pyasn1-modules>=0.2.1 in /usr/local/lib/python3.6/dist-packages (from google-auth<2,>=1.6.3->tensorboard<2.1.0,>=2.0.0->tensorflow==2.0.0->mlbox) (0.2.8)\n",
            "Requirement already satisfied: cachetools<5.0,>=2.0.0 in /usr/local/lib/python3.6/dist-packages (from google-auth<2,>=1.6.3->tensorboard<2.1.0,>=2.0.0->tensorflow==2.0.0->mlbox) (4.1.1)\n",
            "Requirement already satisfied: rsa<5,>=3.1.4; python_version >= \"3\" in /usr/local/lib/python3.6/dist-packages (from google-auth<2,>=1.6.3->tensorboard<2.1.0,>=2.0.0->tensorflow==2.0.0->mlbox) (4.6)\n",
            "Requirement already satisfied: importlib-metadata; python_version < \"3.8\" in /usr/local/lib/python3.6/dist-packages (from markdown>=2.6.8->tensorboard<2.1.0,>=2.0.0->tensorflow==2.0.0->mlbox) (1.7.0)\n",
            "Requirement already satisfied: oauthlib>=3.0.0 in /usr/local/lib/python3.6/dist-packages (from requests-oauthlib>=0.7.0->google-auth-oauthlib<0.5,>=0.4.1->tensorboard<2.1.0,>=2.0.0->tensorflow==2.0.0->mlbox) (3.1.0)\n",
            "Requirement already satisfied: pyasn1<0.5.0,>=0.4.6 in /usr/local/lib/python3.6/dist-packages (from pyasn1-modules>=0.2.1->google-auth<2,>=1.6.3->tensorboard<2.1.0,>=2.0.0->tensorflow==2.0.0->mlbox) (0.4.8)\n",
            "Requirement already satisfied: zipp>=0.5 in /usr/local/lib/python3.6/dist-packages (from importlib-metadata; python_version < \"3.8\"->markdown>=2.6.8->tensorboard<2.1.0,>=2.0.0->tensorflow==2.0.0->mlbox) (3.1.0)\n"
          ],
          "name": "stdout"
        }
      ]
    },
    {
      "cell_type": "code",
      "metadata": {
        "id": "VnYh6YNq4Bp5",
        "colab_type": "code",
        "colab": {}
      },
      "source": [
        "import mlbox\n",
        "from mlbox.preprocessing import *\n",
        "from mlbox.optimisation import *\n",
        "from mlbox.prediction import *\n",
        "import pandas as pd\n",
        "from sklearn.model_selection import train_test_split"
      ],
      "execution_count": null,
      "outputs": []
    },
    {
      "cell_type": "code",
      "metadata": {
        "id": "42p-yvqP8PML",
        "colab_type": "code",
        "colab": {}
      },
      "source": [
        "#data_path = \"/content/drive/My Drive/framingham.csv\"\n",
        "#data = pd.read_csv(data_path)\n",
        "#train,test = train_test_split(data,test_size=0.3)\n",
        "#test = test.drop('TenYearCHD', axis=1)\n"
      ],
      "execution_count": null,
      "outputs": []
    },
    {
      "cell_type": "code",
      "metadata": {
        "id": "s9lbm8rFm0Qr",
        "colab_type": "code",
        "colab": {}
      },
      "source": [
        "#train.to_csv(\"/content/drive/My Drive/framingham_train.csv\")\n",
        "#test.to_csv(\"/content/drive/My Drive/framingham_test.csv\")"
      ],
      "execution_count": null,
      "outputs": []
    },
    {
      "cell_type": "code",
      "metadata": {
        "id": "we7eJaq-_WLk",
        "colab_type": "code",
        "colab": {}
      },
      "source": [
        "train_path = \"/content/drive/My Drive/framingham_train.csv\"\n",
        "test_path = \"/content/drive/My Drive/framingham_test.csv\"\n"
      ],
      "execution_count": null,
      "outputs": []
    },
    {
      "cell_type": "code",
      "metadata": {
        "id": "CmSE1HFu_MWW",
        "colab_type": "code",
        "colab": {}
      },
      "source": [
        "paths = [train_path, test_path]\n",
        "target_name = 'TenYearCHD'"
      ],
      "execution_count": null,
      "outputs": []
    },
    {
      "cell_type": "code",
      "metadata": {
        "id": "5c1tbnuE_jW2",
        "colab_type": "code",
        "colab": {
          "base_uri": "https://localhost:8080/",
          "height": 612
        },
        "outputId": "25885ce2-ee94-4736-debb-ba122effc214"
      },
      "source": [
        "data = Reader(sep=\",\").train_test_split(paths,target_name)\n"
      ],
      "execution_count": null,
      "outputs": [
        {
          "output_type": "stream",
          "text": [
            "\n",
            "reading csv : framingham_train.csv ...\n",
            "cleaning data ...\n",
            "CPU time: 0.14127802848815918 seconds\n",
            "\n",
            "reading csv : framingham_test.csv ...\n",
            "cleaning data ...\n",
            "CPU time: 0.07819914817810059 seconds\n",
            "\n",
            "> Number of common features : 15\n",
            "\n",
            "gathering and crunching for train and test datasets ...\n",
            "reindexing for train and test datasets ...\n",
            "dropping training duplicates ...\n",
            "dropping constant variables on training set ...\n",
            "\n",
            "> Number of categorical features: 0\n",
            "> Number of numerical features: 15\n",
            "> Number of training samples : 3392\n",
            "> Number of test samples : 848\n",
            "\n",
            "> Top sparse features (% missing values on train set):\n",
            "glucose       9.0\n",
            "education     2.4\n",
            "BPMeds        1.4\n",
            "totChol       1.0\n",
            "cigsPerDay    0.5\n",
            "dtype: float64\n",
            "\n",
            "> Task : classification\n",
            "0.0    2886\n",
            "1.0     506\n",
            "Name: TenYearCHD, dtype: int64\n",
            "\n",
            "encoding target ...\n"
          ],
          "name": "stdout"
        }
      ]
    },
    {
      "cell_type": "code",
      "metadata": {
        "id": "7rQbW-1LP8Xd",
        "colab_type": "code",
        "colab": {
          "base_uri": "https://localhost:8080/",
          "height": 340
        },
        "outputId": "c2535fcf-1df4-4ee6-994f-0bf2ca1ecacb"
      },
      "source": [
        "# Removing the Drifting Variables\n",
        "dft=Drift_thresholder()\n",
        "data=dft.fit_transform(data)"
      ],
      "execution_count": null,
      "outputs": [
        {
          "output_type": "stream",
          "text": [
            "\n",
            "computing drifts ...\n",
            "CPU time: 0.314176082611084 seconds\n",
            "\n",
            "> Top 10 drifts\n",
            "\n",
            "('sysBP', 0.05346375489498034)\n",
            "('currentSmoker', 0.04716981132075482)\n",
            "('totChol', 0.043237139551441706)\n",
            "('education', 0.04287835973656118)\n",
            "('age', 0.038918570888216486)\n",
            "('cigsPerDay', 0.03689104774830887)\n",
            "('glucose', 0.028433995639017384)\n",
            "('diaBP', 0.021234758810964705)\n",
            "('male', 0.02063679245283012)\n",
            "('prevalentHyp', 0.018573113207547287)\n",
            "\n",
            "> Deleted variables : []\n",
            "> Drift coefficients dumped into directory : save\n"
          ],
          "name": "stdout"
        }
      ]
    },
    {
      "cell_type": "markdown",
      "metadata": {
        "id": "qYmQwOQvSVtu",
        "colab_type": "text"
      },
      "source": [
        "## The heavy lifting : optimizing"
      ]
    },
    {
      "cell_type": "code",
      "metadata": {
        "id": "pYDI2M8FS8zM",
        "colab_type": "code",
        "colab": {
          "base_uri": "https://localhost:8080/",
          "height": 71
        },
        "outputId": "225dbae8-15bf-43be-9073-1f49e0b9ca13"
      },
      "source": [
        "# Setting up optimiser object\n",
        "opt = Optimiser(scoring='accuracy')"
      ],
      "execution_count": null,
      "outputs": [
        {
          "output_type": "stream",
          "text": [
            "/usr/local/lib/python3.6/dist-packages/mlbox/optimisation/optimiser.py:74: UserWarning: Optimiser will save all your fitted models into directory 'save/joblib'. Please clear it regularly.\n",
            "  +str(self.to_path)+\"/joblib'. Please clear it regularly.\")\n"
          ],
          "name": "stderr"
        }
      ]
    },
    {
      "cell_type": "code",
      "metadata": {
        "id": "k0iN8R2CR9Dl",
        "colab_type": "code",
        "colab": {
          "base_uri": "https://localhost:8080/",
          "height": 292
        },
        "outputId": "d47a0e58-5e23-4564-d956-2f88e5d867d7"
      },
      "source": [
        "warnings.filterwarnings('ignore', category=DeprecationWarning)\n",
        "score1 = opt.evaluate(None, data)"
      ],
      "execution_count": null,
      "outputs": [
        {
          "output_type": "stream",
          "text": [
            "No parameters set. Default configuration is tested\n",
            "\n",
            "##################################################### testing hyper-parameters... #####################################################\n",
            "\n",
            ">>> NA ENCODER :{'numerical_strategy': 'mean', 'categorical_strategy': '<NULL>'}\n",
            "\n",
            ">>> CA ENCODER :{'strategy': 'label_encoding'}\n",
            "\n",
            ">>> ESTIMATOR :{'strategy': 'LightGBM', 'boosting_type': 'gbdt', 'class_weight': None, 'colsample_bytree': 0.8, 'importance_type': 'split', 'learning_rate': 0.05, 'max_depth': -1, 'min_child_samples': 20, 'min_child_weight': 0.001, 'min_split_gain': 0.0, 'n_estimators': 500, 'n_jobs': -1, 'num_leaves': 31, 'objective': None, 'random_state': None, 'reg_alpha': 0.0, 'reg_lambda': 0.0, 'silent': True, 'subsample': 0.9, 'subsample_for_bin': 200000, 'subsample_freq': 0, 'nthread': -1, 'seed': 0}\n",
            "\n",
            "\n",
            "MEAN SCORE : accuracy = 0.8387382075471698\n",
            "VARIANCE : 0.006191037735849059 (fold 1 = 0.8325471698113207, fold 2 = 0.8449292452830188)\n",
            "CPU time: 1.2176883220672607 seconds\n",
            "\n"
          ],
          "name": "stdout"
        }
      ]
    },
    {
      "cell_type": "code",
      "metadata": {
        "id": "FC3__czuSpNo",
        "colab_type": "code",
        "colab": {}
      },
      "source": [
        "\n",
        "# Lets create space of multiple configurations:\n",
        "space = {\n",
        "        'ne__numerical_strategy':{\"search\":\"choice\",\n",
        "                                 \"space\":[0, \"mean\"]},\n",
        "        'ce__strategy':{\"search\":\"choice\",\n",
        "                        \"space\":[\"label_encoding\", \"random_projection\", \"entity_embedding\"]}, \n",
        "        'fs__threshold':{\"search\":\"uniform\",\n",
        "                        \"space\":[0.001, 0.2]}, \n",
        "        'est__strategy':{\"search\":\"choice\", \n",
        "                         \"space\":[\"RandomForest\", \"ExtraTrees\", \"LightGBM\"]},\n",
        "        'est__max_depth':{\"search\":\"choice\", \n",
        "                          \"space\":[8, 9, 10, 11, 12, 13]}\n",
        "        }\n",
        "\n",
        "\n"
      ],
      "execution_count": null,
      "outputs": []
    },
    {
      "cell_type": "code",
      "metadata": {
        "id": "kM9-3mR2L9cI",
        "colab_type": "code",
        "colab": {
          "base_uri": "https://localhost:8080/",
          "height": 1000
        },
        "outputId": "3244fec1-189d-45d7-c16e-d62f7fe5d59a"
      },
      "source": [
        "params = opt.optimise(space, data)       # It returns the best hyperparameters\n"
      ],
      "execution_count": null,
      "outputs": [
        {
          "output_type": "stream",
          "text": [
            "##################################################### testing hyper-parameters... #####################################################\n",
            ">>> NA ENCODER :{'numerical_strategy': 0, 'categorical_strategy': '<NULL>'}\n",
            ">>> CA ENCODER :{'strategy': 'label_encoding'}\n",
            ">>> FEATURE SELECTOR :{'strategy': 'l1', 'threshold': 0.1632295841350735}\n",
            ">>> ESTIMATOR :{'strategy': 'RandomForest', 'max_depth': 8, 'bootstrap': True, 'ccp_alpha': 0.0, 'class_weight': None, 'criterion': 'gini', 'max_features': 'sqrt', 'max_leaf_nodes': None, 'max_samples': None, 'min_impurity_decrease': 0.0, 'min_impurity_split': None, 'min_samples_leaf': 1, 'min_samples_split': 2, 'min_weight_fraction_leaf': 0.0, 'n_estimators': 400, 'n_jobs': -1, 'oob_score': False, 'random_state': 0, 'verbose': 0, 'warm_start': False}\n",
            "MEAN SCORE : accuracy = 0.8520047169811321\n",
            "VARIANCE : 0.0 (fold 1 = 0.8520047169811321, fold 2 = 0.8520047169811321)\n",
            "CPU time: 2.8306312561035156 seconds\n",
            "##################################################### testing hyper-parameters... #####################################################\n",
            ">>> NA ENCODER :{'numerical_strategy': 'mean', 'categorical_strategy': '<NULL>'}\n",
            ">>> CA ENCODER :{'strategy': 'random_projection'}\n",
            ">>> FEATURE SELECTOR :{'strategy': 'l1', 'threshold': 0.10597091093209764}\n",
            ">>> ESTIMATOR :{'strategy': 'LightGBM', 'max_depth': 10, 'boosting_type': 'gbdt', 'class_weight': None, 'colsample_bytree': 0.8, 'importance_type': 'split', 'learning_rate': 0.05, 'min_child_samples': 20, 'min_child_weight': 0.001, 'min_split_gain': 0.0, 'n_estimators': 500, 'n_jobs': -1, 'num_leaves': 31, 'objective': None, 'random_state': None, 'reg_alpha': 0.0, 'reg_lambda': 0.0, 'silent': True, 'subsample': 0.9, 'subsample_for_bin': 200000, 'subsample_freq': 0, 'nthread': -1, 'seed': 0}\n",
            "MEAN SCORE : accuracy = 0.8396226415094339\n",
            "VARIANCE : 0.007075471698113234 (fold 1 = 0.8325471698113207, fold 2 = 0.8466981132075472)\n",
            "CPU time: 1.2603139877319336 seconds\n",
            "##################################################### testing hyper-parameters... #####################################################\n",
            ">>> NA ENCODER :{'numerical_strategy': 'mean', 'categorical_strategy': '<NULL>'}\n",
            ">>> CA ENCODER :{'strategy': 'random_projection'}\n",
            ">>> FEATURE SELECTOR :{'strategy': 'l1', 'threshold': 0.08057225867766236}\n",
            ">>> ESTIMATOR :{'strategy': 'ExtraTrees', 'max_depth': 12, 'bootstrap': True, 'ccp_alpha': 0.0, 'class_weight': None, 'criterion': 'gini', 'max_features': 'sqrt', 'max_leaf_nodes': None, 'max_samples': None, 'min_impurity_decrease': 0.0, 'min_impurity_split': None, 'min_samples_leaf': 1, 'min_samples_split': 2, 'min_weight_fraction_leaf': 0.0, 'n_estimators': 400, 'n_jobs': -1, 'oob_score': False, 'random_state': 0, 'verbose': 0, 'warm_start': False}\n",
            "MEAN SCORE : accuracy = 0.8511202830188679\n",
            "VARIANCE : 0.0002948113207547065 (fold 1 = 0.8508254716981132, fold 2 = 0.8514150943396226)\n",
            "CPU time: 2.355577230453491 seconds\n",
            "##################################################### testing hyper-parameters... #####################################################\n",
            ">>> NA ENCODER :{'numerical_strategy': 0, 'categorical_strategy': '<NULL>'}\n",
            ">>> CA ENCODER :{'strategy': 'entity_embedding'}\n",
            ">>> FEATURE SELECTOR :{'strategy': 'l1', 'threshold': 0.0786857392830854}\n",
            ">>> ESTIMATOR :{'strategy': 'RandomForest', 'max_depth': 11, 'bootstrap': True, 'ccp_alpha': 0.0, 'class_weight': None, 'criterion': 'gini', 'max_features': 'sqrt', 'max_leaf_nodes': None, 'max_samples': None, 'min_impurity_decrease': 0.0, 'min_impurity_split': None, 'min_samples_leaf': 1, 'min_samples_split': 2, 'min_weight_fraction_leaf': 0.0, 'n_estimators': 400, 'n_jobs': -1, 'oob_score': False, 'random_state': 0, 'verbose': 0, 'warm_start': False}\n",
            "MEAN SCORE : accuracy = 0.8514150943396226\n",
            "VARIANCE : 0.0005896226415094685 (fold 1 = 0.8508254716981132, fold 2 = 0.8520047169811321)\n",
            "CPU time: 2.93410325050354 seconds\n",
            "##################################################### testing hyper-parameters... #####################################################\n",
            ">>> NA ENCODER :{'numerical_strategy': 'mean', 'categorical_strategy': '<NULL>'}\n",
            ">>> CA ENCODER :{'strategy': 'random_projection'}\n",
            ">>> FEATURE SELECTOR :{'strategy': 'l1', 'threshold': 0.051804955780256956}\n",
            ">>> ESTIMATOR :{'strategy': 'LightGBM', 'max_depth': 11, 'boosting_type': 'gbdt', 'class_weight': None, 'colsample_bytree': 0.8, 'importance_type': 'split', 'learning_rate': 0.05, 'min_child_samples': 20, 'min_child_weight': 0.001, 'min_split_gain': 0.0, 'n_estimators': 500, 'n_jobs': -1, 'num_leaves': 31, 'objective': None, 'random_state': None, 'reg_alpha': 0.0, 'reg_lambda': 0.0, 'silent': True, 'subsample': 0.9, 'subsample_for_bin': 200000, 'subsample_freq': 0, 'nthread': -1, 'seed': 0}\n",
            "MEAN SCORE : accuracy = 0.8393278301886793\n",
            "VARIANCE : 0.005011792452830177 (fold 1 = 0.8343160377358491, fold 2 = 0.8443396226415094)\n",
            "CPU time: 1.281217336654663 seconds\n",
            "##################################################### testing hyper-parameters... #####################################################\n",
            ">>> NA ENCODER :{'numerical_strategy': 0, 'categorical_strategy': '<NULL>'}\n",
            ">>> CA ENCODER :{'strategy': 'label_encoding'}\n",
            ">>> FEATURE SELECTOR :{'strategy': 'l1', 'threshold': 0.02510600472498862}\n",
            ">>> ESTIMATOR :{'strategy': 'LightGBM', 'max_depth': 8, 'boosting_type': 'gbdt', 'class_weight': None, 'colsample_bytree': 0.8, 'importance_type': 'split', 'learning_rate': 0.05, 'min_child_samples': 20, 'min_child_weight': 0.001, 'min_split_gain': 0.0, 'n_estimators': 500, 'n_jobs': -1, 'num_leaves': 31, 'objective': None, 'random_state': None, 'reg_alpha': 0.0, 'reg_lambda': 0.0, 'silent': True, 'subsample': 0.9, 'subsample_for_bin': 200000, 'subsample_freq': 0, 'nthread': -1, 'seed': 0}\n",
            "MEAN SCORE : accuracy = 0.8337264150943395\n",
            "VARIANCE : 0.004716981132075471 (fold 1 = 0.8290094339622641, fold 2 = 0.8384433962264151)\n",
            "CPU time: 1.1156222820281982 seconds\n",
            "##################################################### testing hyper-parameters... #####################################################\n",
            ">>> NA ENCODER :{'numerical_strategy': 'mean', 'categorical_strategy': '<NULL>'}\n",
            ">>> CA ENCODER :{'strategy': 'entity_embedding'}\n",
            ">>> FEATURE SELECTOR :{'strategy': 'l1', 'threshold': 0.03243435467520726}\n",
            ">>> ESTIMATOR :{'strategy': 'RandomForest', 'max_depth': 12, 'bootstrap': True, 'ccp_alpha': 0.0, 'class_weight': None, 'criterion': 'gini', 'max_features': 'sqrt', 'max_leaf_nodes': None, 'max_samples': None, 'min_impurity_decrease': 0.0, 'min_impurity_split': None, 'min_samples_leaf': 1, 'min_samples_split': 2, 'min_weight_fraction_leaf': 0.0, 'n_estimators': 400, 'n_jobs': -1, 'oob_score': False, 'random_state': 0, 'verbose': 0, 'warm_start': False}\n",
            "MEAN SCORE : accuracy = 0.8517099056603774\n",
            "VARIANCE : 0.000294811320754762 (fold 1 = 0.8514150943396226, fold 2 = 0.8520047169811321)\n",
            "CPU time: 3.051569700241089 seconds\n",
            "##################################################### testing hyper-parameters... #####################################################\n",
            ">>> NA ENCODER :{'numerical_strategy': 0, 'categorical_strategy': '<NULL>'}\n",
            ">>> CA ENCODER :{'strategy': 'entity_embedding'}\n",
            ">>> FEATURE SELECTOR :{'strategy': 'l1', 'threshold': 0.15964926227875312}\n",
            ">>> ESTIMATOR :{'strategy': 'RandomForest', 'max_depth': 10, 'bootstrap': True, 'ccp_alpha': 0.0, 'class_weight': None, 'criterion': 'gini', 'max_features': 'sqrt', 'max_leaf_nodes': None, 'max_samples': None, 'min_impurity_decrease': 0.0, 'min_impurity_split': None, 'min_samples_leaf': 1, 'min_samples_split': 2, 'min_weight_fraction_leaf': 0.0, 'n_estimators': 400, 'n_jobs': -1, 'oob_score': False, 'random_state': 0, 'verbose': 0, 'warm_start': False}\n",
            "MEAN SCORE : accuracy = 0.8508254716981132\n",
            "VARIANCE : 0.0011792452830188815 (fold 1 = 0.8496462264150944, fold 2 = 0.8520047169811321)\n",
            "CPU time: 2.8258485794067383 seconds\n",
            "##################################################### testing hyper-parameters... #####################################################\n",
            ">>> NA ENCODER :{'numerical_strategy': 'mean', 'categorical_strategy': '<NULL>'}\n",
            ">>> CA ENCODER :{'strategy': 'random_projection'}\n",
            ">>> FEATURE SELECTOR :{'strategy': 'l1', 'threshold': 0.08552347450105185}\n",
            ">>> ESTIMATOR :{'strategy': 'LightGBM', 'max_depth': 9, 'boosting_type': 'gbdt', 'class_weight': None, 'colsample_bytree': 0.8, 'importance_type': 'split', 'learning_rate': 0.05, 'min_child_samples': 20, 'min_child_weight': 0.001, 'min_split_gain': 0.0, 'n_estimators': 500, 'n_jobs': -1, 'num_leaves': 31, 'objective': None, 'random_state': None, 'reg_alpha': 0.0, 'reg_lambda': 0.0, 'silent': True, 'subsample': 0.9, 'subsample_for_bin': 200000, 'subsample_freq': 0, 'nthread': -1, 'seed': 0}\n",
            "MEAN SCORE : accuracy = 0.8390330188679245\n",
            "VARIANCE : 0.005896226415094297 (fold 1 = 0.8331367924528302, fold 2 = 0.8449292452830188)\n",
            "CPU time: 1.1782426834106445 seconds\n",
            "##################################################### testing hyper-parameters... #####################################################\n",
            ">>> NA ENCODER :{'numerical_strategy': 'mean', 'categorical_strategy': '<NULL>'}\n",
            ">>> CA ENCODER :{'strategy': 'label_encoding'}\n",
            ">>> FEATURE SELECTOR :{'strategy': 'l1', 'threshold': 0.16801015366665328}\n",
            ">>> ESTIMATOR :{'strategy': 'LightGBM', 'max_depth': 10, 'boosting_type': 'gbdt', 'class_weight': None, 'colsample_bytree': 0.8, 'importance_type': 'split', 'learning_rate': 0.05, 'min_child_samples': 20, 'min_child_weight': 0.001, 'min_split_gain': 0.0, 'n_estimators': 500, 'n_jobs': -1, 'num_leaves': 31, 'objective': None, 'random_state': None, 'reg_alpha': 0.0, 'reg_lambda': 0.0, 'silent': True, 'subsample': 0.9, 'subsample_for_bin': 200000, 'subsample_freq': 0, 'nthread': -1, 'seed': 0}\n",
            "MEAN SCORE : accuracy = 0.8396226415094339\n",
            "VARIANCE : 0.007075471698113234 (fold 1 = 0.8325471698113207, fold 2 = 0.8466981132075472)\n",
            "CPU time: 1.2251803874969482 seconds\n",
            "##################################################### testing hyper-parameters... #####################################################\n",
            ">>> NA ENCODER :{'numerical_strategy': 0, 'categorical_strategy': '<NULL>'}\n",
            ">>> CA ENCODER :{'strategy': 'label_encoding'}\n",
            ">>> FEATURE SELECTOR :{'strategy': 'l1', 'threshold': 0.13682458731953226}\n",
            ">>> ESTIMATOR :{'strategy': 'RandomForest', 'max_depth': 10, 'bootstrap': True, 'ccp_alpha': 0.0, 'class_weight': None, 'criterion': 'gini', 'max_features': 'sqrt', 'max_leaf_nodes': None, 'max_samples': None, 'min_impurity_decrease': 0.0, 'min_impurity_split': None, 'min_samples_leaf': 1, 'min_samples_split': 2, 'min_weight_fraction_leaf': 0.0, 'n_estimators': 400, 'n_jobs': -1, 'oob_score': False, 'random_state': 0, 'verbose': 0, 'warm_start': False}\n",
            "MEAN SCORE : accuracy = 0.8508254716981132\n",
            "VARIANCE : 0.0011792452830188815 (fold 1 = 0.8496462264150944, fold 2 = 0.8520047169811321)\n",
            "CPU time: 2.751140832901001 seconds\n",
            "##################################################### testing hyper-parameters... #####################################################\n",
            ">>> NA ENCODER :{'numerical_strategy': 0, 'categorical_strategy': '<NULL>'}\n",
            ">>> CA ENCODER :{'strategy': 'entity_embedding'}\n",
            ">>> FEATURE SELECTOR :{'strategy': 'l1', 'threshold': 0.1264247891671499}\n",
            ">>> ESTIMATOR :{'strategy': 'LightGBM', 'max_depth': 11, 'boosting_type': 'gbdt', 'class_weight': None, 'colsample_bytree': 0.8, 'importance_type': 'split', 'learning_rate': 0.05, 'min_child_samples': 20, 'min_child_weight': 0.001, 'min_split_gain': 0.0, 'n_estimators': 500, 'n_jobs': -1, 'num_leaves': 31, 'objective': None, 'random_state': None, 'reg_alpha': 0.0, 'reg_lambda': 0.0, 'silent': True, 'subsample': 0.9, 'subsample_for_bin': 200000, 'subsample_freq': 0, 'nthread': -1, 'seed': 0}\n",
            "MEAN SCORE : accuracy = 0.8387382075471699\n",
            "VARIANCE : 0.005011792452830177 (fold 1 = 0.8337264150943396, fold 2 = 0.84375)\n",
            "CPU time: 1.3800365924835205 seconds\n",
            "##################################################### testing hyper-parameters... #####################################################\n",
            ">>> NA ENCODER :{'numerical_strategy': 0, 'categorical_strategy': '<NULL>'}\n",
            ">>> CA ENCODER :{'strategy': 'label_encoding'}\n",
            ">>> FEATURE SELECTOR :{'strategy': 'l1', 'threshold': 0.034514580109196336}\n",
            ">>> ESTIMATOR :{'strategy': 'LightGBM', 'max_depth': 13, 'boosting_type': 'gbdt', 'class_weight': None, 'colsample_bytree': 0.8, 'importance_type': 'split', 'learning_rate': 0.05, 'min_child_samples': 20, 'min_child_weight': 0.001, 'min_split_gain': 0.0, 'n_estimators': 500, 'n_jobs': -1, 'num_leaves': 31, 'objective': None, 'random_state': None, 'reg_alpha': 0.0, 'reg_lambda': 0.0, 'silent': True, 'subsample': 0.9, 'subsample_for_bin': 200000, 'subsample_freq': 0, 'nthread': -1, 'seed': 0}\n",
            "MEAN SCORE : accuracy = 0.8387382075471699\n",
            "VARIANCE : 0.003832547169811351 (fold 1 = 0.8349056603773585, fold 2 = 0.8425707547169812)\n",
            "CPU time: 1.2885568141937256 seconds\n",
            "##################################################### testing hyper-parameters... #####################################################\n",
            ">>> NA ENCODER :{'numerical_strategy': 'mean', 'categorical_strategy': '<NULL>'}\n",
            ">>> CA ENCODER :{'strategy': 'entity_embedding'}\n",
            ">>> FEATURE SELECTOR :{'strategy': 'l1', 'threshold': 0.08175125779894953}\n",
            ">>> ESTIMATOR :{'strategy': 'LightGBM', 'max_depth': 9, 'boosting_type': 'gbdt', 'class_weight': None, 'colsample_bytree': 0.8, 'importance_type': 'split', 'learning_rate': 0.05, 'min_child_samples': 20, 'min_child_weight': 0.001, 'min_split_gain': 0.0, 'n_estimators': 500, 'n_jobs': -1, 'num_leaves': 31, 'objective': None, 'random_state': None, 'reg_alpha': 0.0, 'reg_lambda': 0.0, 'silent': True, 'subsample': 0.9, 'subsample_for_bin': 200000, 'subsample_freq': 0, 'nthread': -1, 'seed': 0}\n",
            "MEAN SCORE : accuracy = 0.8390330188679245\n",
            "VARIANCE : 0.005896226415094297 (fold 1 = 0.8331367924528302, fold 2 = 0.8449292452830188)\n",
            "CPU time: 1.2378501892089844 seconds\n",
            "##################################################### testing hyper-parameters... #####################################################\n",
            ">>> NA ENCODER :{'numerical_strategy': 0, 'categorical_strategy': '<NULL>'}\n",
            ">>> CA ENCODER :{'strategy': 'label_encoding'}\n",
            ">>> FEATURE SELECTOR :{'strategy': 'l1', 'threshold': 0.004187169385247843}\n",
            ">>> ESTIMATOR :{'strategy': 'LightGBM', 'max_depth': 12, 'boosting_type': 'gbdt', 'class_weight': None, 'colsample_bytree': 0.8, 'importance_type': 'split', 'learning_rate': 0.05, 'min_child_samples': 20, 'min_child_weight': 0.001, 'min_split_gain': 0.0, 'n_estimators': 500, 'n_jobs': -1, 'num_leaves': 31, 'objective': None, 'random_state': None, 'reg_alpha': 0.0, 'reg_lambda': 0.0, 'silent': True, 'subsample': 0.9, 'subsample_for_bin': 200000, 'subsample_freq': 0, 'nthread': -1, 'seed': 0}\n",
            "MEAN SCORE : accuracy = 0.8360849056603774\n",
            "VARIANCE : 0.004716981132075471 (fold 1 = 0.8313679245283019, fold 2 = 0.8408018867924528)\n",
            "CPU time: 1.2994532585144043 seconds\n",
            "##################################################### testing hyper-parameters... #####################################################\n",
            ">>> NA ENCODER :{'numerical_strategy': 0, 'categorical_strategy': '<NULL>'}\n",
            ">>> CA ENCODER :{'strategy': 'label_encoding'}\n",
            ">>> FEATURE SELECTOR :{'strategy': 'l1', 'threshold': 0.006436132322065383}\n",
            ">>> ESTIMATOR :{'strategy': 'LightGBM', 'max_depth': 9, 'boosting_type': 'gbdt', 'class_weight': None, 'colsample_bytree': 0.8, 'importance_type': 'split', 'learning_rate': 0.05, 'min_child_samples': 20, 'min_child_weight': 0.001, 'min_split_gain': 0.0, 'n_estimators': 500, 'n_jobs': -1, 'num_leaves': 31, 'objective': None, 'random_state': None, 'reg_alpha': 0.0, 'reg_lambda': 0.0, 'silent': True, 'subsample': 0.9, 'subsample_for_bin': 200000, 'subsample_freq': 0, 'nthread': -1, 'seed': 0}\n",
            "MEAN SCORE : accuracy = 0.8369693396226415\n",
            "VARIANCE : 0.005601415094339646 (fold 1 = 0.8313679245283019, fold 2 = 0.8425707547169812)\n",
            "CPU time: 1.1743090152740479 seconds\n",
            "##################################################### testing hyper-parameters... #####################################################\n",
            ">>> NA ENCODER :{'numerical_strategy': 'mean', 'categorical_strategy': '<NULL>'}\n",
            ">>> CA ENCODER :{'strategy': 'label_encoding'}\n",
            ">>> FEATURE SELECTOR :{'strategy': 'l1', 'threshold': 0.07433866428679488}\n",
            ">>> ESTIMATOR :{'strategy': 'ExtraTrees', 'max_depth': 12, 'bootstrap': True, 'ccp_alpha': 0.0, 'class_weight': None, 'criterion': 'gini', 'max_features': 'sqrt', 'max_leaf_nodes': None, 'max_samples': None, 'min_impurity_decrease': 0.0, 'min_impurity_split': None, 'min_samples_leaf': 1, 'min_samples_split': 2, 'min_weight_fraction_leaf': 0.0, 'n_estimators': 400, 'n_jobs': -1, 'oob_score': False, 'random_state': 0, 'verbose': 0, 'warm_start': False}\n",
            "MEAN SCORE : accuracy = 0.8511202830188679\n",
            "VARIANCE : 0.0002948113207547065 (fold 1 = 0.8508254716981132, fold 2 = 0.8514150943396226)\n",
            "CPU time: 2.3453118801116943 seconds\n",
            "##################################################### testing hyper-parameters... #####################################################\n",
            ">>> NA ENCODER :{'numerical_strategy': 'mean', 'categorical_strategy': '<NULL>'}\n",
            ">>> CA ENCODER :{'strategy': 'random_projection'}\n",
            ">>> FEATURE SELECTOR :{'strategy': 'l1', 'threshold': 0.16625578015369083}\n",
            ">>> ESTIMATOR :{'strategy': 'RandomForest', 'max_depth': 12, 'bootstrap': True, 'ccp_alpha': 0.0, 'class_weight': None, 'criterion': 'gini', 'max_features': 'sqrt', 'max_leaf_nodes': None, 'max_samples': None, 'min_impurity_decrease': 0.0, 'min_impurity_split': None, 'min_samples_leaf': 1, 'min_samples_split': 2, 'min_weight_fraction_leaf': 0.0, 'n_estimators': 400, 'n_jobs': -1, 'oob_score': False, 'random_state': 0, 'verbose': 0, 'warm_start': False}\n",
            "MEAN SCORE : accuracy = 0.8517099056603774\n",
            "VARIANCE : 0.000294811320754762 (fold 1 = 0.8514150943396226, fold 2 = 0.8520047169811321)\n",
            "CPU time: 2.895357847213745 seconds\n",
            "##################################################### testing hyper-parameters... #####################################################\n",
            ">>> NA ENCODER :{'numerical_strategy': 0, 'categorical_strategy': '<NULL>'}\n",
            ">>> CA ENCODER :{'strategy': 'random_projection'}\n",
            ">>> FEATURE SELECTOR :{'strategy': 'l1', 'threshold': 0.03534967649203885}\n",
            ">>> ESTIMATOR :{'strategy': 'LightGBM', 'max_depth': 11, 'boosting_type': 'gbdt', 'class_weight': None, 'colsample_bytree': 0.8, 'importance_type': 'split', 'learning_rate': 0.05, 'min_child_samples': 20, 'min_child_weight': 0.001, 'min_split_gain': 0.0, 'n_estimators': 500, 'n_jobs': -1, 'num_leaves': 31, 'objective': None, 'random_state': None, 'reg_alpha': 0.0, 'reg_lambda': 0.0, 'silent': True, 'subsample': 0.9, 'subsample_for_bin': 200000, 'subsample_freq': 0, 'nthread': -1, 'seed': 0}\n",
            "MEAN SCORE : accuracy = 0.8387382075471699\n",
            "VARIANCE : 0.005011792452830177 (fold 1 = 0.8337264150943396, fold 2 = 0.84375)\n",
            "CPU time: 1.258812665939331 seconds\n",
            "##################################################### testing hyper-parameters... #####################################################\n",
            ">>> NA ENCODER :{'numerical_strategy': 'mean', 'categorical_strategy': '<NULL>'}\n",
            ">>> CA ENCODER :{'strategy': 'label_encoding'}\n",
            ">>> FEATURE SELECTOR :{'strategy': 'l1', 'threshold': 0.05751607712546682}\n",
            ">>> ESTIMATOR :{'strategy': 'ExtraTrees', 'max_depth': 12, 'bootstrap': True, 'ccp_alpha': 0.0, 'class_weight': None, 'criterion': 'gini', 'max_features': 'sqrt', 'max_leaf_nodes': None, 'max_samples': None, 'min_impurity_decrease': 0.0, 'min_impurity_split': None, 'min_samples_leaf': 1, 'min_samples_split': 2, 'min_weight_fraction_leaf': 0.0, 'n_estimators': 400, 'n_jobs': -1, 'oob_score': False, 'random_state': 0, 'verbose': 0, 'warm_start': False}\n",
            "MEAN SCORE : accuracy = 0.8511202830188679\n",
            "VARIANCE : 0.0002948113207547065 (fold 1 = 0.8508254716981132, fold 2 = 0.8514150943396226)\n",
            "CPU time: 2.318842887878418 seconds\n",
            "##################################################### testing hyper-parameters... #####################################################\n",
            ">>> NA ENCODER :{'numerical_strategy': 'mean', 'categorical_strategy': '<NULL>'}\n",
            ">>> CA ENCODER :{'strategy': 'random_projection'}\n",
            ">>> FEATURE SELECTOR :{'strategy': 'l1', 'threshold': 0.19378571714287496}\n",
            ">>> ESTIMATOR :{'strategy': 'RandomForest', 'max_depth': 8, 'bootstrap': True, 'ccp_alpha': 0.0, 'class_weight': None, 'criterion': 'gini', 'max_features': 'sqrt', 'max_leaf_nodes': None, 'max_samples': None, 'min_impurity_decrease': 0.0, 'min_impurity_split': None, 'min_samples_leaf': 1, 'min_samples_split': 2, 'min_weight_fraction_leaf': 0.0, 'n_estimators': 400, 'n_jobs': -1, 'oob_score': False, 'random_state': 0, 'verbose': 0, 'warm_start': False}\n",
            "MEAN SCORE : accuracy = 0.8508254716981132\n",
            "VARIANCE : 0.000589622641509413 (fold 1 = 0.8502358490566038, fold 2 = 0.8514150943396226)\n",
            "CPU time: 2.586416006088257 seconds\n",
            "##################################################### testing hyper-parameters... #####################################################\n",
            ">>> NA ENCODER :{'numerical_strategy': 0, 'categorical_strategy': '<NULL>'}\n",
            ">>> CA ENCODER :{'strategy': 'random_projection'}\n",
            ">>> FEATURE SELECTOR :{'strategy': 'l1', 'threshold': 0.199310947447749}\n",
            ">>> ESTIMATOR :{'strategy': 'RandomForest', 'max_depth': 8, 'bootstrap': True, 'ccp_alpha': 0.0, 'class_weight': None, 'criterion': 'gini', 'max_features': 'sqrt', 'max_leaf_nodes': None, 'max_samples': None, 'min_impurity_decrease': 0.0, 'min_impurity_split': None, 'min_samples_leaf': 1, 'min_samples_split': 2, 'min_weight_fraction_leaf': 0.0, 'n_estimators': 400, 'n_jobs': -1, 'oob_score': False, 'random_state': 0, 'verbose': 0, 'warm_start': False}\n",
            "MEAN SCORE : accuracy = 0.8520047169811321\n",
            "VARIANCE : 0.0 (fold 1 = 0.8520047169811321, fold 2 = 0.8520047169811321)\n",
            "CPU time: 2.5925419330596924 seconds\n",
            "##################################################### testing hyper-parameters... #####################################################\n",
            ">>> NA ENCODER :{'numerical_strategy': 0, 'categorical_strategy': '<NULL>'}\n",
            ">>> CA ENCODER :{'strategy': 'random_projection'}\n",
            ">>> FEATURE SELECTOR :{'strategy': 'l1', 'threshold': 0.19803217825895356}\n",
            ">>> ESTIMATOR :{'strategy': 'RandomForest', 'max_depth': 8, 'bootstrap': True, 'ccp_alpha': 0.0, 'class_weight': None, 'criterion': 'gini', 'max_features': 'sqrt', 'max_leaf_nodes': None, 'max_samples': None, 'min_impurity_decrease': 0.0, 'min_impurity_split': None, 'min_samples_leaf': 1, 'min_samples_split': 2, 'min_weight_fraction_leaf': 0.0, 'n_estimators': 400, 'n_jobs': -1, 'oob_score': False, 'random_state': 0, 'verbose': 0, 'warm_start': False}\n",
            "MEAN SCORE : accuracy = 0.8520047169811321\n",
            "VARIANCE : 0.0 (fold 1 = 0.8520047169811321, fold 2 = 0.8520047169811321)\n",
            "CPU time: 2.5613129138946533 seconds\n",
            "##################################################### testing hyper-parameters... #####################################################\n",
            ">>> NA ENCODER :{'numerical_strategy': 0, 'categorical_strategy': '<NULL>'}\n",
            ">>> CA ENCODER :{'strategy': 'random_projection'}\n",
            ">>> FEATURE SELECTOR :{'strategy': 'l1', 'threshold': 0.1833803491074191}\n",
            ">>> ESTIMATOR :{'strategy': 'RandomForest', 'max_depth': 8, 'bootstrap': True, 'ccp_alpha': 0.0, 'class_weight': None, 'criterion': 'gini', 'max_features': 'sqrt', 'max_leaf_nodes': None, 'max_samples': None, 'min_impurity_decrease': 0.0, 'min_impurity_split': None, 'min_samples_leaf': 1, 'min_samples_split': 2, 'min_weight_fraction_leaf': 0.0, 'n_estimators': 400, 'n_jobs': -1, 'oob_score': False, 'random_state': 0, 'verbose': 0, 'warm_start': False}\n",
            "MEAN SCORE : accuracy = 0.8520047169811321\n",
            "VARIANCE : 0.0 (fold 1 = 0.8520047169811321, fold 2 = 0.8520047169811321)\n",
            "CPU time: 2.566108465194702 seconds\n",
            "##################################################### testing hyper-parameters... #####################################################\n",
            ">>> NA ENCODER :{'numerical_strategy': 0, 'categorical_strategy': '<NULL>'}\n",
            ">>> CA ENCODER :{'strategy': 'label_encoding'}\n",
            ">>> FEATURE SELECTOR :{'strategy': 'l1', 'threshold': 0.13728631146357437}\n",
            ">>> ESTIMATOR :{'strategy': 'RandomForest', 'max_depth': 8, 'bootstrap': True, 'ccp_alpha': 0.0, 'class_weight': None, 'criterion': 'gini', 'max_features': 'sqrt', 'max_leaf_nodes': None, 'max_samples': None, 'min_impurity_decrease': 0.0, 'min_impurity_split': None, 'min_samples_leaf': 1, 'min_samples_split': 2, 'min_weight_fraction_leaf': 0.0, 'n_estimators': 400, 'n_jobs': -1, 'oob_score': False, 'random_state': 0, 'verbose': 0, 'warm_start': False}\n",
            "MEAN SCORE : accuracy = 0.8520047169811321\n",
            "VARIANCE : 0.0 (fold 1 = 0.8520047169811321, fold 2 = 0.8520047169811321)\n",
            "CPU time: 2.5704731941223145 seconds\n",
            "##################################################### testing hyper-parameters... #####################################################\n",
            ">>> NA ENCODER :{'numerical_strategy': 0, 'categorical_strategy': '<NULL>'}\n",
            ">>> CA ENCODER :{'strategy': 'label_encoding'}\n",
            ">>> FEATURE SELECTOR :{'strategy': 'l1', 'threshold': 0.1809053804612532}\n",
            ">>> ESTIMATOR :{'strategy': 'RandomForest', 'max_depth': 13, 'bootstrap': True, 'ccp_alpha': 0.0, 'class_weight': None, 'criterion': 'gini', 'max_features': 'sqrt', 'max_leaf_nodes': None, 'max_samples': None, 'min_impurity_decrease': 0.0, 'min_impurity_split': None, 'min_samples_leaf': 1, 'min_samples_split': 2, 'min_weight_fraction_leaf': 0.0, 'n_estimators': 400, 'n_jobs': -1, 'oob_score': False, 'random_state': 0, 'verbose': 0, 'warm_start': False}\n",
            "MEAN SCORE : accuracy = 0.8514150943396226\n",
            "VARIANCE : 0.0005896226415094685 (fold 1 = 0.8508254716981132, fold 2 = 0.8520047169811321)\n",
            "CPU time: 2.9192070960998535 seconds\n",
            "##################################################### testing hyper-parameters... #####################################################\n",
            ">>> NA ENCODER :{'numerical_strategy': 0, 'categorical_strategy': '<NULL>'}\n",
            ">>> CA ENCODER :{'strategy': 'random_projection'}\n",
            ">>> FEATURE SELECTOR :{'strategy': 'l1', 'threshold': 0.15278102642407887}\n",
            ">>> ESTIMATOR :{'strategy': 'RandomForest', 'max_depth': 8, 'bootstrap': True, 'ccp_alpha': 0.0, 'class_weight': None, 'criterion': 'gini', 'max_features': 'sqrt', 'max_leaf_nodes': None, 'max_samples': None, 'min_impurity_decrease': 0.0, 'min_impurity_split': None, 'min_samples_leaf': 1, 'min_samples_split': 2, 'min_weight_fraction_leaf': 0.0, 'n_estimators': 400, 'n_jobs': -1, 'oob_score': False, 'random_state': 0, 'verbose': 0, 'warm_start': False}\n",
            "MEAN SCORE : accuracy = 0.8520047169811321\n",
            "VARIANCE : 0.0 (fold 1 = 0.8520047169811321, fold 2 = 0.8520047169811321)\n",
            "CPU time: 2.573139190673828 seconds\n",
            "##################################################### testing hyper-parameters... #####################################################\n",
            ">>> NA ENCODER :{'numerical_strategy': 0, 'categorical_strategy': '<NULL>'}\n",
            ">>> CA ENCODER :{'strategy': 'label_encoding'}\n",
            ">>> FEATURE SELECTOR :{'strategy': 'l1', 'threshold': 0.11661720849650162}\n",
            ">>> ESTIMATOR :{'strategy': 'ExtraTrees', 'max_depth': 8, 'bootstrap': True, 'ccp_alpha': 0.0, 'class_weight': None, 'criterion': 'gini', 'max_features': 'sqrt', 'max_leaf_nodes': None, 'max_samples': None, 'min_impurity_decrease': 0.0, 'min_impurity_split': None, 'min_samples_leaf': 1, 'min_samples_split': 2, 'min_weight_fraction_leaf': 0.0, 'n_estimators': 400, 'n_jobs': -1, 'oob_score': False, 'random_state': 0, 'verbose': 0, 'warm_start': False}\n",
            "MEAN SCORE : accuracy = 0.8517099056603774\n",
            "VARIANCE : 0.001474056603773588 (fold 1 = 0.8502358490566038, fold 2 = 0.8531839622641509)\n",
            "CPU time: 2.176326036453247 seconds\n",
            "##################################################### testing hyper-parameters... #####################################################\n",
            ">>> NA ENCODER :{'numerical_strategy': 0, 'categorical_strategy': '<NULL>'}\n",
            ">>> CA ENCODER :{'strategy': 'label_encoding'}\n",
            ">>> FEATURE SELECTOR :{'strategy': 'l1', 'threshold': 0.14311004904871008}\n",
            ">>> ESTIMATOR :{'strategy': 'RandomForest', 'max_depth': 8, 'bootstrap': True, 'ccp_alpha': 0.0, 'class_weight': None, 'criterion': 'gini', 'max_features': 'sqrt', 'max_leaf_nodes': None, 'max_samples': None, 'min_impurity_decrease': 0.0, 'min_impurity_split': None, 'min_samples_leaf': 1, 'min_samples_split': 2, 'min_weight_fraction_leaf': 0.0, 'n_estimators': 400, 'n_jobs': -1, 'oob_score': False, 'random_state': 0, 'verbose': 0, 'warm_start': False}\n",
            "MEAN SCORE : accuracy = 0.8520047169811321\n",
            "VARIANCE : 0.0 (fold 1 = 0.8520047169811321, fold 2 = 0.8520047169811321)\n",
            "CPU time: 2.5762789249420166 seconds\n",
            "##################################################### testing hyper-parameters... #####################################################\n",
            ">>> NA ENCODER :{'numerical_strategy': 0, 'categorical_strategy': '<NULL>'}\n",
            ">>> CA ENCODER :{'strategy': 'random_projection'}\n",
            ">>> FEATURE SELECTOR :{'strategy': 'l1', 'threshold': 0.09978755666827371}\n",
            ">>> ESTIMATOR :{'strategy': 'RandomForest', 'max_depth': 13, 'bootstrap': True, 'ccp_alpha': 0.0, 'class_weight': None, 'criterion': 'gini', 'max_features': 'sqrt', 'max_leaf_nodes': None, 'max_samples': None, 'min_impurity_decrease': 0.0, 'min_impurity_split': None, 'min_samples_leaf': 1, 'min_samples_split': 2, 'min_weight_fraction_leaf': 0.0, 'n_estimators': 400, 'n_jobs': -1, 'oob_score': False, 'random_state': 0, 'verbose': 0, 'warm_start': False}\n",
            "MEAN SCORE : accuracy = 0.8514150943396226\n",
            "VARIANCE : 0.0005896226415094685 (fold 1 = 0.8508254716981132, fold 2 = 0.8520047169811321)\n",
            "CPU time: 2.929335832595825 seconds\n",
            "##################################################### testing hyper-parameters... #####################################################\n",
            ">>> NA ENCODER :{'numerical_strategy': 0, 'categorical_strategy': '<NULL>'}\n",
            ">>> CA ENCODER :{'strategy': 'random_projection'}\n",
            ">>> FEATURE SELECTOR :{'strategy': 'l1', 'threshold': 0.15383329534370244}\n",
            ">>> ESTIMATOR :{'strategy': 'ExtraTrees', 'max_depth': 8, 'bootstrap': True, 'ccp_alpha': 0.0, 'class_weight': None, 'criterion': 'gini', 'max_features': 'sqrt', 'max_leaf_nodes': None, 'max_samples': None, 'min_impurity_decrease': 0.0, 'min_impurity_split': None, 'min_samples_leaf': 1, 'min_samples_split': 2, 'min_weight_fraction_leaf': 0.0, 'n_estimators': 400, 'n_jobs': -1, 'oob_score': False, 'random_state': 0, 'verbose': 0, 'warm_start': False}\n",
            "MEAN SCORE : accuracy = 0.8517099056603774\n",
            "VARIANCE : 0.001474056603773588 (fold 1 = 0.8502358490566038, fold 2 = 0.8531839622641509)\n",
            "CPU time: 2.1392438411712646 seconds\n",
            "##################################################### testing hyper-parameters... #####################################################\n",
            ">>> NA ENCODER :{'numerical_strategy': 0, 'categorical_strategy': '<NULL>'}\n",
            ">>> CA ENCODER :{'strategy': 'label_encoding'}\n",
            ">>> FEATURE SELECTOR :{'strategy': 'l1', 'threshold': 0.1046614064880097}\n",
            ">>> ESTIMATOR :{'strategy': 'RandomForest', 'max_depth': 8, 'bootstrap': True, 'ccp_alpha': 0.0, 'class_weight': None, 'criterion': 'gini', 'max_features': 'sqrt', 'max_leaf_nodes': None, 'max_samples': None, 'min_impurity_decrease': 0.0, 'min_impurity_split': None, 'min_samples_leaf': 1, 'min_samples_split': 2, 'min_weight_fraction_leaf': 0.0, 'n_estimators': 400, 'n_jobs': -1, 'oob_score': False, 'random_state': 0, 'verbose': 0, 'warm_start': False}\n",
            "MEAN SCORE : accuracy = 0.8520047169811321\n",
            "VARIANCE : 0.0 (fold 1 = 0.8520047169811321, fold 2 = 0.8520047169811321)\n",
            "CPU time: 2.6014373302459717 seconds\n",
            "##################################################### testing hyper-parameters... #####################################################\n",
            ">>> NA ENCODER :{'numerical_strategy': 0, 'categorical_strategy': '<NULL>'}\n",
            ">>> CA ENCODER :{'strategy': 'label_encoding'}\n",
            ">>> FEATURE SELECTOR :{'strategy': 'l1', 'threshold': 0.14096940887529275}\n",
            ">>> ESTIMATOR :{'strategy': 'RandomForest', 'max_depth': 8, 'bootstrap': True, 'ccp_alpha': 0.0, 'class_weight': None, 'criterion': 'gini', 'max_features': 'sqrt', 'max_leaf_nodes': None, 'max_samples': None, 'min_impurity_decrease': 0.0, 'min_impurity_split': None, 'min_samples_leaf': 1, 'min_samples_split': 2, 'min_weight_fraction_leaf': 0.0, 'n_estimators': 400, 'n_jobs': -1, 'oob_score': False, 'random_state': 0, 'verbose': 0, 'warm_start': False}\n",
            "MEAN SCORE : accuracy = 0.8520047169811321\n",
            "VARIANCE : 0.0 (fold 1 = 0.8520047169811321, fold 2 = 0.8520047169811321)\n",
            "CPU time: 2.598396062850952 seconds\n",
            "##################################################### testing hyper-parameters... #####################################################\n",
            ">>> NA ENCODER :{'numerical_strategy': 0, 'categorical_strategy': '<NULL>'}\n",
            ">>> CA ENCODER :{'strategy': 'label_encoding'}\n",
            ">>> FEATURE SELECTOR :{'strategy': 'l1', 'threshold': 0.11657912404045975}\n",
            ">>> ESTIMATOR :{'strategy': 'RandomForest', 'max_depth': 8, 'bootstrap': True, 'ccp_alpha': 0.0, 'class_weight': None, 'criterion': 'gini', 'max_features': 'sqrt', 'max_leaf_nodes': None, 'max_samples': None, 'min_impurity_decrease': 0.0, 'min_impurity_split': None, 'min_samples_leaf': 1, 'min_samples_split': 2, 'min_weight_fraction_leaf': 0.0, 'n_estimators': 400, 'n_jobs': -1, 'oob_score': False, 'random_state': 0, 'verbose': 0, 'warm_start': False}\n",
            "MEAN SCORE : accuracy = 0.8520047169811321\n",
            "VARIANCE : 0.0 (fold 1 = 0.8520047169811321, fold 2 = 0.8520047169811321)\n",
            "CPU time: 2.6023378372192383 seconds\n",
            "##################################################### testing hyper-parameters... #####################################################\n",
            ">>> NA ENCODER :{'numerical_strategy': 0, 'categorical_strategy': '<NULL>'}\n",
            ">>> CA ENCODER :{'strategy': 'label_encoding'}\n",
            ">>> FEATURE SELECTOR :{'strategy': 'l1', 'threshold': 0.10065011629103868}\n",
            ">>> ESTIMATOR :{'strategy': 'ExtraTrees', 'max_depth': 11, 'bootstrap': True, 'ccp_alpha': 0.0, 'class_weight': None, 'criterion': 'gini', 'max_features': 'sqrt', 'max_leaf_nodes': None, 'max_samples': None, 'min_impurity_decrease': 0.0, 'min_impurity_split': None, 'min_samples_leaf': 1, 'min_samples_split': 2, 'min_weight_fraction_leaf': 0.0, 'n_estimators': 400, 'n_jobs': -1, 'oob_score': False, 'random_state': 0, 'verbose': 0, 'warm_start': False}\n",
            "MEAN SCORE : accuracy = 0.8514150943396226\n",
            "VARIANCE : 0.0017688679245282946 (fold 1 = 0.8496462264150944, fold 2 = 0.8531839622641509)\n",
            "CPU time: 2.2765347957611084 seconds\n",
            "##################################################### testing hyper-parameters... #####################################################\n",
            ">>> NA ENCODER :{'numerical_strategy': 0, 'categorical_strategy': '<NULL>'}\n",
            ">>> CA ENCODER :{'strategy': 'entity_embedding'}\n",
            ">>> FEATURE SELECTOR :{'strategy': 'l1', 'threshold': 0.17180333654349866}\n",
            ">>> ESTIMATOR :{'strategy': 'RandomForest', 'max_depth': 10, 'bootstrap': True, 'ccp_alpha': 0.0, 'class_weight': None, 'criterion': 'gini', 'max_features': 'sqrt', 'max_leaf_nodes': None, 'max_samples': None, 'min_impurity_decrease': 0.0, 'min_impurity_split': None, 'min_samples_leaf': 1, 'min_samples_split': 2, 'min_weight_fraction_leaf': 0.0, 'n_estimators': 400, 'n_jobs': -1, 'oob_score': False, 'random_state': 0, 'verbose': 0, 'warm_start': False}\n",
            "MEAN SCORE : accuracy = 0.8508254716981132\n",
            "VARIANCE : 0.0011792452830188815 (fold 1 = 0.8496462264150944, fold 2 = 0.8520047169811321)\n",
            "CPU time: 2.936232805252075 seconds\n",
            "##################################################### testing hyper-parameters... #####################################################\n",
            ">>> NA ENCODER :{'numerical_strategy': 0, 'categorical_strategy': '<NULL>'}\n",
            ">>> CA ENCODER :{'strategy': 'label_encoding'}\n",
            ">>> FEATURE SELECTOR :{'strategy': 'l1', 'threshold': 0.11970267304429022}\n",
            ">>> ESTIMATOR :{'strategy': 'RandomForest', 'max_depth': 9, 'bootstrap': True, 'ccp_alpha': 0.0, 'class_weight': None, 'criterion': 'gini', 'max_features': 'sqrt', 'max_leaf_nodes': None, 'max_samples': None, 'min_impurity_decrease': 0.0, 'min_impurity_split': None, 'min_samples_leaf': 1, 'min_samples_split': 2, 'min_weight_fraction_leaf': 0.0, 'n_estimators': 400, 'n_jobs': -1, 'oob_score': False, 'random_state': 0, 'verbose': 0, 'warm_start': False}\n",
            "MEAN SCORE : accuracy = 0.8517099056603774\n",
            "VARIANCE : 0.000884433962264175 (fold 1 = 0.8508254716981132, fold 2 = 0.8525943396226415)\n",
            "CPU time: 2.8932113647460938 seconds\n",
            "##################################################### testing hyper-parameters... #####################################################\n",
            ">>> NA ENCODER :{'numerical_strategy': 0, 'categorical_strategy': '<NULL>'}\n",
            ">>> CA ENCODER :{'strategy': 'label_encoding'}\n",
            ">>> FEATURE SELECTOR :{'strategy': 'l1', 'threshold': 0.0940643101728974}\n",
            ">>> ESTIMATOR :{'strategy': 'RandomForest', 'max_depth': 13, 'bootstrap': True, 'ccp_alpha': 0.0, 'class_weight': None, 'criterion': 'gini', 'max_features': 'sqrt', 'max_leaf_nodes': None, 'max_samples': None, 'min_impurity_decrease': 0.0, 'min_impurity_split': None, 'min_samples_leaf': 1, 'min_samples_split': 2, 'min_weight_fraction_leaf': 0.0, 'n_estimators': 400, 'n_jobs': -1, 'oob_score': False, 'random_state': 0, 'verbose': 0, 'warm_start': False}\n",
            "MEAN SCORE : accuracy = 0.8514150943396226\n",
            "VARIANCE : 0.0005896226415094685 (fold 1 = 0.8508254716981132, fold 2 = 0.8520047169811321)\n",
            "CPU time: 3.1708173751831055 seconds\n",
            "##################################################### testing hyper-parameters... #####################################################\n",
            ">>> NA ENCODER :{'numerical_strategy': 0, 'categorical_strategy': '<NULL>'}\n",
            ">>> CA ENCODER :{'strategy': 'random_projection'}\n",
            ">>> FEATURE SELECTOR :{'strategy': 'l1', 'threshold': 0.18501500064224619}\n",
            ">>> ESTIMATOR :{'strategy': 'RandomForest', 'max_depth': 8, 'bootstrap': True, 'ccp_alpha': 0.0, 'class_weight': None, 'criterion': 'gini', 'max_features': 'sqrt', 'max_leaf_nodes': None, 'max_samples': None, 'min_impurity_decrease': 0.0, 'min_impurity_split': None, 'min_samples_leaf': 1, 'min_samples_split': 2, 'min_weight_fraction_leaf': 0.0, 'n_estimators': 400, 'n_jobs': -1, 'oob_score': False, 'random_state': 0, 'verbose': 0, 'warm_start': False}\n",
            "MEAN SCORE : accuracy = 0.8520047169811321\n",
            "VARIANCE : 0.0 (fold 1 = 0.8520047169811321, fold 2 = 0.8520047169811321)\n",
            "CPU time: 2.836672782897949 seconds\n",
            "##################################################### testing hyper-parameters... #####################################################\n",
            ">>> NA ENCODER :{'numerical_strategy': 'mean', 'categorical_strategy': '<NULL>'}\n",
            ">>> CA ENCODER :{'strategy': 'entity_embedding'}\n",
            ">>> FEATURE SELECTOR :{'strategy': 'l1', 'threshold': 0.06405371073724594}\n",
            ">>> ESTIMATOR :{'strategy': 'ExtraTrees', 'max_depth': 10, 'bootstrap': True, 'ccp_alpha': 0.0, 'class_weight': None, 'criterion': 'gini', 'max_features': 'sqrt', 'max_leaf_nodes': None, 'max_samples': None, 'min_impurity_decrease': 0.0, 'min_impurity_split': None, 'min_samples_leaf': 1, 'min_samples_split': 2, 'min_weight_fraction_leaf': 0.0, 'n_estimators': 400, 'n_jobs': -1, 'oob_score': False, 'random_state': 0, 'verbose': 0, 'warm_start': False}\n",
            "MEAN SCORE : accuracy = 0.8514150943396226\n",
            "VARIANCE : 0.0017688679245282946 (fold 1 = 0.8496462264150944, fold 2 = 0.8531839622641509)\n",
            "CPU time: 2.4508466720581055 seconds\n",
            "100%|██████████| 40/40 [01:31<00:00,  2.29s/trial, best loss: -0.8520047169811321]\n",
            "\n",
            "\n",
            "~~~~~~~~~~~~~~~~~~~~~~~~~~~~~~~~~~~~~~~~~~~~~~~~~~~~~~~~~~~~~~~~~~~~~~~~~~~~~~~~~~~~~~~~~~~~~~~~~~~~~~~~~~~~~~~~~~~~~~~~~~~~~~~~~~~~~~~~~\n",
            "~~~~~~~~~~~~~~~~~~~~~~~~~~~~~~~~~~~~~~~~~~~~~~~~~~~~~~~~~ BEST HYPER-PARAMETERS ~~~~~~~~~~~~~~~~~~~~~~~~~~~~~~~~~~~~~~~~~~~~~~~~~~~~~~~~~\n",
            "~~~~~~~~~~~~~~~~~~~~~~~~~~~~~~~~~~~~~~~~~~~~~~~~~~~~~~~~~~~~~~~~~~~~~~~~~~~~~~~~~~~~~~~~~~~~~~~~~~~~~~~~~~~~~~~~~~~~~~~~~~~~~~~~~~~~~~~~~\n",
            "\n",
            "{'ce__strategy': 'label_encoding', 'est__max_depth': 8, 'est__strategy': 'RandomForest', 'fs__threshold': 0.1632295841350735, 'ne__numerical_strategy': 0}\n"
          ],
          "name": "stdout"
        }
      ]
    },
    {
      "cell_type": "code",
      "metadata": {
        "id": "Vaqf6pWBL-xb",
        "colab_type": "code",
        "colab": {
          "base_uri": "https://localhost:8080/",
          "height": 309
        },
        "outputId": "0463f3c8-a062-4018-a111-fc498004ce73"
      },
      "source": [
        "score2 = opt.evaluate(params, data)"
      ],
      "execution_count": null,
      "outputs": [
        {
          "output_type": "stream",
          "text": [
            "\n",
            "##################################################### testing hyper-parameters... #####################################################\n",
            "\n",
            ">>> NA ENCODER :{'numerical_strategy': 0, 'categorical_strategy': '<NULL>'}\n",
            "\n",
            ">>> CA ENCODER :{'strategy': 'label_encoding'}\n",
            "\n",
            ">>> FEATURE SELECTOR :{'strategy': 'l1', 'threshold': 0.1632295841350735}\n",
            "\n",
            ">>> ESTIMATOR :{'strategy': 'RandomForest', 'max_depth': 8, 'bootstrap': True, 'ccp_alpha': 0.0, 'class_weight': None, 'criterion': 'gini', 'max_features': 'sqrt', 'max_leaf_nodes': None, 'max_samples': None, 'min_impurity_decrease': 0.0, 'min_impurity_split': None, 'min_samples_leaf': 1, 'min_samples_split': 2, 'min_weight_fraction_leaf': 0.0, 'n_estimators': 400, 'n_jobs': -1, 'oob_score': False, 'random_state': 0, 'verbose': 0, 'warm_start': False}\n",
            "\n",
            "\n",
            "MEAN SCORE : accuracy = 0.8520047169811321\n",
            "VARIANCE : 0.0 (fold 1 = 0.8520047169811321, fold 2 = 0.8520047169811321)\n",
            "CPU time: 2.661893367767334 seconds\n",
            "\n"
          ],
          "name": "stdout"
        }
      ]
    },
    {
      "cell_type": "code",
      "metadata": {
        "id": "ywCk5u38UKJu",
        "colab_type": "code",
        "colab": {
          "base_uri": "https://localhost:8080/",
          "height": 901
        },
        "outputId": "34a18951-5bb5-44f0-a969-64e8b5ffab29"
      },
      "source": [
        "pred = Predictor()\n",
        "pred.fit_predict(params, data)"
      ],
      "execution_count": null,
      "outputs": [
        {
          "output_type": "stream",
          "text": [
            "\n",
            "fitting the pipeline ...\n"
          ],
          "name": "stdout"
        },
        {
          "output_type": "stream",
          "text": [
            "/usr/local/lib/python3.6/dist-packages/sklearn/linear_model/_sag.py:330: ConvergenceWarning: The max_iter was reached which means the coef_ did not converge\n",
            "  \"the coef_ did not converge\", ConvergenceWarning)\n"
          ],
          "name": "stderr"
        },
        {
          "output_type": "stream",
          "text": [
            "CPU time: 1.5684559345245361 seconds\n",
            "\n",
            "predicting ...\n"
          ],
          "name": "stdout"
        },
        {
          "output_type": "stream",
          "text": [
            "/usr/local/lib/python3.6/dist-packages/mlbox/prediction/predictor.py:392: UserWarning: Unable to get feature importances !\n",
            "  warnings.warn(\"Unable to get feature importances !\")\n"
          ],
          "name": "stderr"
        },
        {
          "output_type": "stream",
          "text": [
            "CPU time: 0.2109205722808838 seconds\n",
            "\n",
            "> Overview on predictions : \n",
            "\n",
            "        0.0       1.0  TenYearCHD_predicted\n",
            "0  0.917199  0.082801                     0\n",
            "1  0.922477  0.077523                     0\n",
            "2  0.760978  0.239022                     0\n",
            "3  0.924507  0.075493                     0\n",
            "4  0.720018  0.279982                     0\n",
            "5  0.948270  0.051730                     0\n",
            "6  0.950748  0.049252                     0\n",
            "7  0.891860  0.108140                     0\n",
            "8  0.955389  0.044611                     0\n",
            "9  0.954781  0.045219                     0\n",
            "\n",
            "dumping predictions into directory : save ...\n"
          ],
          "name": "stdout"
        },
        {
          "output_type": "error",
          "ename": "ImportError",
          "evalue": "ignored",
          "traceback": [
            "\u001b[0;31m---------------------------------------------------------------------------\u001b[0m",
            "\u001b[0;31mImportError\u001b[0m                               Traceback (most recent call last)",
            "\u001b[0;32m<ipython-input-26-7e299e47634b>\u001b[0m in \u001b[0;36m<module>\u001b[0;34m()\u001b[0m\n\u001b[1;32m      1\u001b[0m \u001b[0mpred\u001b[0m \u001b[0;34m=\u001b[0m \u001b[0mPredictor\u001b[0m\u001b[0;34m(\u001b[0m\u001b[0;34m)\u001b[0m\u001b[0;34m\u001b[0m\u001b[0;34m\u001b[0m\u001b[0m\n\u001b[0;32m----> 2\u001b[0;31m \u001b[0mpred\u001b[0m\u001b[0;34m.\u001b[0m\u001b[0mfit_predict\u001b[0m\u001b[0;34m(\u001b[0m\u001b[0mparams\u001b[0m\u001b[0;34m,\u001b[0m \u001b[0mdata\u001b[0m\u001b[0;34m)\u001b[0m\u001b[0;34m\u001b[0m\u001b[0;34m\u001b[0m\u001b[0m\n\u001b[0m",
            "\u001b[0;32m/usr/local/lib/python3.6/dist-packages/mlbox/prediction/predictor.py\u001b[0m in \u001b[0;36mfit_predict\u001b[0;34m(self, params, df)\u001b[0m\n\u001b[1;32m    493\u001b[0m                             \u001b[0;34m+\u001b[0m \u001b[0mdf\u001b[0m\u001b[0;34m[\u001b[0m\u001b[0;34m'target'\u001b[0m\u001b[0;34m]\u001b[0m\u001b[0;34m.\u001b[0m\u001b[0mname\u001b[0m\u001b[0;34m\u001b[0m\u001b[0;34m\u001b[0m\u001b[0m\n\u001b[1;32m    494\u001b[0m                             \u001b[0;34m+\u001b[0m \u001b[0;34m\"_predictions.csv\"\u001b[0m\u001b[0;34m,\u001b[0m\u001b[0;34m\u001b[0m\u001b[0;34m\u001b[0m\u001b[0m\n\u001b[0;32m--> 495\u001b[0;31m                             index=True)\n\u001b[0m\u001b[1;32m    496\u001b[0m \u001b[0;34m\u001b[0m\u001b[0m\n\u001b[1;32m    497\u001b[0m         \u001b[0;32mreturn\u001b[0m \u001b[0mself\u001b[0m\u001b[0;34m\u001b[0m\u001b[0;34m\u001b[0m\u001b[0m\n",
            "\u001b[0;32m/usr/local/lib/python3.6/dist-packages/pandas/core/generic.py\u001b[0m in \u001b[0;36mto_csv\u001b[0;34m(self, path_or_buf, sep, na_rep, float_format, columns, header, index, index_label, mode, encoding, compression, quoting, quotechar, line_terminator, chunksize, date_format, doublequote, escapechar, decimal)\u001b[0m\n\u001b[1;32m   3178\u001b[0m         \u001b[0mdecimal\u001b[0m \u001b[0;34m:\u001b[0m \u001b[0mstr\u001b[0m\u001b[0;34m,\u001b[0m \u001b[0mdefault\u001b[0m \u001b[0;34m'.'\u001b[0m\u001b[0;34m\u001b[0m\u001b[0;34m\u001b[0m\u001b[0m\n\u001b[1;32m   3179\u001b[0m             \u001b[0mCharacter\u001b[0m \u001b[0mrecognized\u001b[0m \u001b[0;32mas\u001b[0m \u001b[0mdecimal\u001b[0m \u001b[0mseparator\u001b[0m\u001b[0;34m.\u001b[0m \u001b[0mE\u001b[0m\u001b[0;34m.\u001b[0m\u001b[0mg\u001b[0m\u001b[0;34m.\u001b[0m \u001b[0muse\u001b[0m \u001b[0;34m','\u001b[0m \u001b[0;32mfor\u001b[0m\u001b[0;34m\u001b[0m\u001b[0;34m\u001b[0m\u001b[0m\n\u001b[0;32m-> 3180\u001b[0;31m             \u001b[0mEuropean\u001b[0m \u001b[0mdata\u001b[0m\u001b[0;34m.\u001b[0m\u001b[0;34m\u001b[0m\u001b[0;34m\u001b[0m\u001b[0m\n\u001b[0m\u001b[1;32m   3181\u001b[0m \u001b[0;34m\u001b[0m\u001b[0m\n\u001b[1;32m   3182\u001b[0m         \u001b[0mReturns\u001b[0m\u001b[0;34m\u001b[0m\u001b[0;34m\u001b[0m\u001b[0m\n",
            "\u001b[0;32m/usr/local/lib/python3.6/dist-packages/pandas/io/formats/csvs.py\u001b[0m in \u001b[0;36m<module>\u001b[0;34m()\u001b[0m\n\u001b[1;32m     21\u001b[0m \u001b[0;32mfrom\u001b[0m \u001b[0mpandas\u001b[0m\u001b[0;34m.\u001b[0m\u001b[0mcore\u001b[0m\u001b[0;34m.\u001b[0m\u001b[0mdtypes\u001b[0m\u001b[0;34m.\u001b[0m\u001b[0mmissing\u001b[0m \u001b[0;32mimport\u001b[0m \u001b[0mnotna\u001b[0m\u001b[0;34m\u001b[0m\u001b[0;34m\u001b[0m\u001b[0m\n\u001b[1;32m     22\u001b[0m \u001b[0;34m\u001b[0m\u001b[0m\n\u001b[0;32m---> 23\u001b[0;31m from pandas.io.common import (\n\u001b[0m\u001b[1;32m     24\u001b[0m     \u001b[0mUnicodeWriter\u001b[0m\u001b[0;34m,\u001b[0m\u001b[0;34m\u001b[0m\u001b[0;34m\u001b[0m\u001b[0m\n\u001b[1;32m     25\u001b[0m     \u001b[0m_get_handle\u001b[0m\u001b[0;34m,\u001b[0m\u001b[0;34m\u001b[0m\u001b[0;34m\u001b[0m\u001b[0m\n",
            "\u001b[0;31mImportError\u001b[0m: cannot import name 'UnicodeWriter'",
            "",
            "\u001b[0;31m---------------------------------------------------------------------------\u001b[0;32m\nNOTE: If your import is failing due to a missing package, you can\nmanually install dependencies using either !pip or !apt.\n\nTo view examples of installing some common dependencies, click the\n\"Open Examples\" button below.\n\u001b[0;31m---------------------------------------------------------------------------\u001b[0m\n"
          ]
        }
      ]
    },
    {
      "cell_type": "code",
      "metadata": {
        "id": "4EqFoB4aVoQR",
        "colab_type": "code",
        "colab": {}
      },
      "source": [
        ""
      ],
      "execution_count": null,
      "outputs": []
    }
  ]
}