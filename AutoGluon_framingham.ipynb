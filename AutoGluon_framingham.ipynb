{
  "nbformat": 4,
  "nbformat_minor": 0,
  "metadata": {
    "colab": {
      "name": "AutoGluon_framingham.ipynb",
      "provenance": [],
      "collapsed_sections": [],
      "mount_file_id": "1PLOJS7cCCWyUyEGEiAI06hbjih59KF-M",
      "authorship_tag": "ABX9TyMmz0ppO10oFAImdxuEUuU3",
      "include_colab_link": true
    },
    "kernelspec": {
      "name": "python3",
      "display_name": "Python 3"
    }
  },
  "cells": [
    {
      "cell_type": "markdown",
      "metadata": {
        "id": "view-in-github",
        "colab_type": "text"
      },
      "source": [
        "<a href=\"https://colab.research.google.com/github/jigsawcoder/Automated-Machine-Learning-Tools/blob/master/AutoGluon_framingham.ipynb\" target=\"_parent\"><img src=\"https://colab.research.google.com/assets/colab-badge.svg\" alt=\"Open In Colab\"/></a>"
      ]
    },
    {
      "cell_type": "code",
      "metadata": {
        "id": "SsoRzK2ZdzGv",
        "colab_type": "code",
        "colab": {
          "base_uri": "https://localhost:8080/",
          "height": 326
        },
        "outputId": "0503add7-fe21-4b0d-dc57-d5f3a68fa01d"
      },
      "source": [
        "pip install -U --pre \"mxnet>=1.7.0b20200713, <2.0.0\" -f https://sxjscience.github.io/KDD2020/\n"
      ],
      "execution_count": null,
      "outputs": [
        {
          "output_type": "stream",
          "text": [
            "Looking in links: https://sxjscience.github.io/KDD2020/\n",
            "Collecting mxnet<2.0.0,>=1.7.0b20200713\n",
            "\u001b[?25l  Downloading https://files.pythonhosted.org/packages/29/bb/54cbabe428351c06d10903c658878d29ee7026efbe45133fd133598d6eb6/mxnet-1.7.0.post1-py2.py3-none-manylinux2014_x86_64.whl (55.0MB)\n",
            "\u001b[K     |████████████████████████████████| 55.0MB 74kB/s \n",
            "\u001b[?25hRequirement already satisfied, skipping upgrade: requests<3,>=2.20.0 in /usr/local/lib/python3.6/dist-packages (from mxnet<2.0.0,>=1.7.0b20200713) (2.23.0)\n",
            "Requirement already satisfied, skipping upgrade: numpy<2.0.0,>1.16.0 in /usr/local/lib/python3.6/dist-packages (from mxnet<2.0.0,>=1.7.0b20200713) (1.18.5)\n",
            "Collecting graphviz<0.9.0,>=0.8.1\n",
            "  Downloading https://files.pythonhosted.org/packages/53/39/4ab213673844e0c004bed8a0781a0721a3f6bb23eb8854ee75c236428892/graphviz-0.8.4-py2.py3-none-any.whl\n",
            "Requirement already satisfied, skipping upgrade: certifi>=2017.4.17 in /usr/local/lib/python3.6/dist-packages (from requests<3,>=2.20.0->mxnet<2.0.0,>=1.7.0b20200713) (2020.6.20)\n",
            "Requirement already satisfied, skipping upgrade: urllib3!=1.25.0,!=1.25.1,<1.26,>=1.21.1 in /usr/local/lib/python3.6/dist-packages (from requests<3,>=2.20.0->mxnet<2.0.0,>=1.7.0b20200713) (1.24.3)\n",
            "Requirement already satisfied, skipping upgrade: chardet<4,>=3.0.2 in /usr/local/lib/python3.6/dist-packages (from requests<3,>=2.20.0->mxnet<2.0.0,>=1.7.0b20200713) (3.0.4)\n",
            "Requirement already satisfied, skipping upgrade: idna<3,>=2.5 in /usr/local/lib/python3.6/dist-packages (from requests<3,>=2.20.0->mxnet<2.0.0,>=1.7.0b20200713) (2.10)\n",
            "Installing collected packages: graphviz, mxnet\n",
            "  Found existing installation: graphviz 0.10.1\n",
            "    Uninstalling graphviz-0.10.1:\n",
            "      Successfully uninstalled graphviz-0.10.1\n",
            "Successfully installed graphviz-0.8.4 mxnet-1.7.0.post1\n"
          ],
          "name": "stdout"
        }
      ]
    },
    {
      "cell_type": "code",
      "metadata": {
        "id": "g8y3l-TnAnpg",
        "colab_type": "code",
        "colab": {}
      },
      "source": [
        "pip install autogluon"
      ],
      "execution_count": null,
      "outputs": []
    },
    {
      "cell_type": "code",
      "metadata": {
        "id": "coQ0tMeP4-Am",
        "colab_type": "code",
        "colab": {}
      },
      "source": [
        "import autogluon as ag\n",
        "from autogluon import TabularPrediction as task\n",
        "from sklearn.model_selection import train_test_split\n",
        "import pandas as pd\n"
      ],
      "execution_count": null,
      "outputs": []
    },
    {
      "cell_type": "markdown",
      "metadata": {
        "id": "WeYPxi0H6k_l",
        "colab_type": "text"
      },
      "source": [
        "## Importing and creating dataset"
      ]
    },
    {
      "cell_type": "code",
      "metadata": {
        "id": "wNIZAYEi5zNv",
        "colab_type": "code",
        "colab": {}
      },
      "source": [
        "data_path = \"/content/drive/My Drive/framingham.csv\"\n",
        "data = pd.read_csv(data_path)"
      ],
      "execution_count": null,
      "outputs": []
    },
    {
      "cell_type": "code",
      "metadata": {
        "id": "q7aLLzuL9_sm",
        "colab_type": "code",
        "colab": {}
      },
      "source": [
        "y = data.TenYearCHD\n",
        "X = data.drop('TenYearCHD', axis=1)"
      ],
      "execution_count": null,
      "outputs": []
    },
    {
      "cell_type": "code",
      "metadata": {
        "id": "lDbxtClc-FPL",
        "colab_type": "code",
        "colab": {}
      },
      "source": [
        "train,test = train_test_split(data,test_size=0.3)"
      ],
      "execution_count": null,
      "outputs": []
    },
    {
      "cell_type": "markdown",
      "metadata": {
        "id": "OxxuZbkoEWqz",
        "colab_type": "text"
      },
      "source": [
        "[‘accuracy’, ‘balanced_accuracy’, ‘f1’, ‘f1_macro’, ‘f1_micro’, ‘f1_weighted’, ‘roc_auc’, ‘average_precision’, ‘precision’, ‘precision_macro’, ‘precision_micro’, ‘precision_weighted’, ‘recall’, ‘recall_macro’, ‘recall_micro’, ‘recall_weighted’, ‘log_loss’, ‘pac_score’]"
      ]
    },
    {
      "cell_type": "code",
      "metadata": {
        "id": "yJklWa-T53GX",
        "colab_type": "code",
        "colab": {
          "base_uri": "https://localhost:8080/",
          "height": 1000
        },
        "outputId": "3382574a-adfc-4142-aff2-7dc2bfe2787c"
      },
      "source": [
        "train_data = task.Dataset(train)\n",
        "predictor = task.fit(train_data=train, label='TenYearCHD',auto_stack=True,eval_metric=\"accuracy\")\n",
        "# Total 5 mins 5 sec"
      ],
      "execution_count": null,
      "outputs": [
        {
          "output_type": "stream",
          "text": [
            "No output_directory specified. Models will be saved in: AutogluonModels/ag-20200905_073201/\n",
            "Beginning AutoGluon training ...\n",
            "AutoGluon will save models to AutogluonModels/ag-20200905_073201/\n",
            "AutoGluon Version:  0.0.13\n",
            "Train Data Rows:    2968\n",
            "Train Data Columns: 16\n",
            "Preprocessing data ...\n",
            "Here are the 2 unique label values in your data:  [0, 1]\n",
            "AutoGluon infers your prediction problem is: binary  (because only two unique label-values observed).\n",
            "If this is wrong, please specify `problem_type` argument in fit() instead (You may specify problem_type as one of: ['binary', 'multiclass', 'regression'])\n",
            "\n",
            "Selected class <--> label mapping:  class 1 = 1, class 0 = 0\n",
            "Train Data Class Count: 2\n",
            "NumExpr defaulting to 2 threads.\n",
            "Feature Generator processed 2968 data points with 15 features\n",
            "Original Features (raw dtypes):\n",
            "\tint64 features: 6\n",
            "\tfloat64 features: 9\n",
            "Original Features (inferred dtypes):\n",
            "\tint features: 6\n",
            "\tfloat features: 9\n",
            "Generated Features (special dtypes):\n",
            "Processed Features (raw dtypes):\n",
            "\tint features: 6\n",
            "\tfloat features: 9\n",
            "Processed Features:\n",
            "\tint features: 6\n",
            "\tfloat features: 9\n",
            "\tData preprocessing and feature engineering runtime = 0.11s ...\n",
            "AutoGluon will gauge predictive performance using evaluation metric: accuracy\n",
            "To change this, specify the eval_metric argument of fit()\n",
            "AutoGluon will early stop models using evaluation metric: accuracy\n",
            "Fitting model: RandomForestClassifierGini_STACKER_l0 ...\n",
            "\t0.8464\t = Validation accuracy score\n",
            "\t12.26s\t = Training runtime\n",
            "\t1.08s\t = Validation runtime\n",
            "Fitting model: RandomForestClassifierEntr_STACKER_l0 ...\n",
            "\t0.848\t = Validation accuracy score\n",
            "\t14.76s\t = Training runtime\n",
            "\t1.08s\t = Validation runtime\n",
            "Fitting model: ExtraTreesClassifierGini_STACKER_l0 ...\n",
            "\t0.8474\t = Validation accuracy score\n",
            "\t9.33s\t = Training runtime\n",
            "\t1.08s\t = Validation runtime\n",
            "Fitting model: ExtraTreesClassifierEntr_STACKER_l0 ...\n",
            "\t0.8454\t = Validation accuracy score\n",
            "\t10.5s\t = Training runtime\n",
            "\t1.08s\t = Validation runtime\n",
            "Fitting model: KNeighborsClassifierUnif_STACKER_l0 ...\n",
            "\t0.8299\t = Validation accuracy score\n",
            "\t0.08s\t = Training runtime\n",
            "\t1.03s\t = Validation runtime\n",
            "Fitting model: KNeighborsClassifierDist_STACKER_l0 ...\n",
            "\t0.8302\t = Validation accuracy score\n",
            "\t0.08s\t = Training runtime\n",
            "\t1.03s\t = Validation runtime\n",
            "Fitting model: LightGBMClassifier_STACKER_l0 ...\n",
            "\t0.8538\t = Validation accuracy score\n",
            "\t3.91s\t = Training runtime\n",
            "\t0.06s\t = Validation runtime\n",
            "Fitting model: CatboostClassifier_STACKER_l0 ...\n",
            "\t0.8541\t = Validation accuracy score\n",
            "\t6.36s\t = Training runtime\n",
            "\t0.05s\t = Validation runtime\n",
            "Fitting model: NeuralNetClassifier_STACKER_l0 ...\n",
            "\t0.8514\t = Validation accuracy score\n",
            "\t74.81s\t = Training runtime\n",
            "\t0.2s\t = Validation runtime\n",
            "Fitting model: LightGBMClassifierCustom_STACKER_l0 ...\n",
            "\t0.8497\t = Validation accuracy score\n",
            "\t9.96s\t = Training runtime\n",
            "\t0.06s\t = Validation runtime\n",
            "Fitting model: weighted_ensemble_k0_l1 ...\n",
            "\t0.8541\t = Validation accuracy score\n",
            "\t1.48s\t = Training runtime\n",
            "\t0.01s\t = Validation runtime\n",
            "Fitting model: RandomForestClassifierGini_STACKER_l1 ...\n",
            "\t0.8544\t = Validation accuracy score\n",
            "\t18.48s\t = Training runtime\n",
            "\t1.1s\t = Validation runtime\n",
            "Fitting model: RandomForestClassifierEntr_STACKER_l1 ...\n",
            "\t0.8555\t = Validation accuracy score\n",
            "\t24.82s\t = Training runtime\n",
            "\t1.1s\t = Validation runtime\n",
            "Fitting model: ExtraTreesClassifierGini_STACKER_l1 ...\n",
            "\t0.8507\t = Validation accuracy score\n",
            "\t9.94s\t = Training runtime\n",
            "\t1.1s\t = Validation runtime\n",
            "Fitting model: ExtraTreesClassifierEntr_STACKER_l1 ...\n",
            "\t0.8484\t = Validation accuracy score\n",
            "\t11.65s\t = Training runtime\n",
            "\t1.2s\t = Validation runtime\n",
            "Fitting model: KNeighborsClassifierUnif_STACKER_l1 ...\n",
            "\t0.8285\t = Validation accuracy score\n",
            "\t0.11s\t = Training runtime\n",
            "\t1.03s\t = Validation runtime\n",
            "Fitting model: KNeighborsClassifierDist_STACKER_l1 ...\n",
            "\t0.8295\t = Validation accuracy score\n",
            "\t0.1s\t = Training runtime\n",
            "\t1.03s\t = Validation runtime\n",
            "Fitting model: LightGBMClassifier_STACKER_l1 ...\n",
            "\t0.8571\t = Validation accuracy score\n",
            "\t5.8s\t = Training runtime\n",
            "\t0.07s\t = Validation runtime\n",
            "Fitting model: CatboostClassifier_STACKER_l1 ...\n",
            "\t0.8568\t = Validation accuracy score\n",
            "\t10.92s\t = Training runtime\n",
            "\t0.06s\t = Validation runtime\n",
            "Fitting model: NeuralNetClassifier_STACKER_l1 ...\n",
            "\t0.8524\t = Validation accuracy score\n",
            "\t88.95s\t = Training runtime\n",
            "\t0.27s\t = Validation runtime\n",
            "Fitting model: LightGBMClassifierCustom_STACKER_l1 ...\n",
            "\t0.8558\t = Validation accuracy score\n",
            "\t21.03s\t = Training runtime\n",
            "\t0.08s\t = Validation runtime\n",
            "Fitting model: weighted_ensemble_k0_l2 ...\n",
            "\t0.8575\t = Validation accuracy score\n",
            "\t1.45s\t = Training runtime\n",
            "\t0.01s\t = Validation runtime\n",
            "AutoGluon training complete, total runtime = 358.96s ...\n"
          ],
          "name": "stderr"
        }
      ]
    },
    {
      "cell_type": "code",
      "metadata": {
        "id": "79ngIkFs6Ws4",
        "colab_type": "code",
        "colab": {}
      },
      "source": [
        "test_data = task.Dataset(test)\n",
        "y_test = test_data['TenYearCHD']\n",
        "test_data_nolabel = test_data.drop(labels=['TenYearCHD'],axis=1)"
      ],
      "execution_count": null,
      "outputs": []
    },
    {
      "cell_type": "code",
      "metadata": {
        "id": "bQBHtmPI-5rg",
        "colab_type": "code",
        "colab": {}
      },
      "source": [
        "y_pred = predictor.predict(test_data_nolabel)\n"
      ],
      "execution_count": null,
      "outputs": []
    },
    {
      "cell_type": "code",
      "metadata": {
        "id": "MaJRTPbRqDOc",
        "colab_type": "code",
        "colab": {
          "base_uri": "https://localhost:8080/",
          "height": 646
        },
        "outputId": "2ac04939-61d4-498b-fb57-9ec4b0cfaf95"
      },
      "source": [
        "performance = predictor.evaluate_predictions(y_true=y_test,y_pred=y_pred,auxiliary_metrics=True)\n",
        "\n",
        "#y_pred_proba = predictor.predict_proba(test_data_nolabel)\n",
        "#print(list(y_pred[:5]))\n",
        "#print(list(y_pred_proba[:5])) \n",
        "\n",
        "# Total Time : 15 sec"
      ],
      "execution_count": null,
      "outputs": [
        {
          "output_type": "stream",
          "text": [
            "Evaluation: accuracy on test data: 0.8529874213836478\n",
            "Evaluations on test data:\n",
            "{\n",
            "    \"accuracy\": 0.8529874213836478,\n",
            "    \"accuracy_score\": 0.8529874213836478,\n",
            "    \"balanced_accuracy_score\": 0.5066389018950689,\n",
            "    \"matthews_corrcoef\": 0.06862295903652649,\n",
            "    \"f1_score\": 0.8529874213836477\n",
            "}\n",
            "Detailed (per-class) classification report:\n",
            "{\n",
            "    \"0\": {\n",
            "        \"precision\": 0.8546603475513428,\n",
            "        \"recall\": 0.9972350230414746,\n",
            "        \"f1-score\": 0.9204593789876648,\n",
            "        \"support\": 1085\n",
            "    },\n",
            "    \"1\": {\n",
            "        \"precision\": 0.5,\n",
            "        \"recall\": 0.016042780748663103,\n",
            "        \"f1-score\": 0.03108808290155441,\n",
            "        \"support\": 187\n",
            "    },\n",
            "    \"accuracy\": 0.8529874213836478,\n",
            "    \"macro avg\": {\n",
            "        \"precision\": 0.6773301737756714,\n",
            "        \"recall\": 0.5066389018950689,\n",
            "        \"f1-score\": 0.4757737309446096,\n",
            "        \"support\": 1272\n",
            "    },\n",
            "    \"weighted avg\": {\n",
            "        \"precision\": 0.8025208153248482,\n",
            "        \"recall\": 0.8529874213836478,\n",
            "        \"f1-score\": 0.7897106114026785,\n",
            "        \"support\": 1272\n",
            "    }\n",
            "}\n"
          ],
          "name": "stderr"
        }
      ]
    },
    {
      "cell_type": "code",
      "metadata": {
        "id": "uF_lJNPV8956",
        "colab_type": "code",
        "colab": {
          "base_uri": "https://localhost:8080/",
          "height": 632
        },
        "outputId": "da334fce-9706-4533-fc8d-ded1d92a32d3"
      },
      "source": [
        "results = predictor.fit_summary()"
      ],
      "execution_count": null,
      "outputs": [
        {
          "output_type": "stream",
          "text": [
            "*** Summary of fit() ***\n",
            "Estimated performance of each model:\n",
            "                                    model  score_val  pred_time_val    fit_time  pred_time_val_marginal  fit_time_marginal  stack_level  can_infer  fit_order\n",
            "0                 weighted_ensemble_k0_l2   0.857480       9.040414  192.588522                0.006470           1.447283            2       True         22\n",
            "1           LightGBMClassifier_STACKER_l1   0.857143       6.840615  147.841048                0.070389           5.800451            1       True         18\n",
            "2           CatboostClassifier_STACKER_l1   0.856806       6.834729  152.955706                0.064503          10.915109            1       True         19\n",
            "3     LightGBMClassifierCustom_STACKER_l1   0.855795       6.852466  163.072498                0.082240          21.031901            1       True         21\n",
            "4   RandomForestClassifierEntr_STACKER_l1   0.855458       7.868326  166.865559                1.098100          24.824962            1       True         13\n",
            "5   RandomForestClassifierGini_STACKER_l1   0.854447       7.865454  160.515826                1.095228          18.475229            1       True         12\n",
            "6           CatboostClassifier_STACKER_l0   0.854111       0.050408    6.357478                0.050408           6.357478            0       True          8\n",
            "7                 weighted_ensemble_k0_l1   0.854111       0.057530    7.832516                0.007122           1.475039            1       True         11\n",
            "8           LightGBMClassifier_STACKER_l0   0.853774       0.062281    3.907573                0.062281           3.907573            0       True          7\n",
            "9          NeuralNetClassifier_STACKER_l1   0.852426       7.035604  230.993892                0.265378          88.953295            1       True         20\n",
            "10         NeuralNetClassifier_STACKER_l0   0.851415       0.199353   74.811594                0.199353          74.811594            0       True          9\n",
            "11    ExtraTreesClassifierGini_STACKER_l1   0.850741       7.866424  151.982830                1.096198           9.942233            1       True         14\n",
            "12    LightGBMClassifierCustom_STACKER_l0   0.849730       0.064311    9.956459                0.064311           9.956459            0       True         10\n",
            "13    ExtraTreesClassifierEntr_STACKER_l1   0.848383       7.971996  153.686737                1.201770          11.646140            1       True         15\n",
            "14  RandomForestClassifierEntr_STACKER_l0   0.848046       1.082139   14.759146                1.082139          14.759146            0       True          2\n",
            "15    ExtraTreesClassifierGini_STACKER_l0   0.847372       1.084097    9.327802                1.084097           9.327802            0       True          3\n",
            "16  RandomForestClassifierGini_STACKER_l0   0.846361       1.083139   12.264009                1.083139          12.264009            0       True          1\n",
            "17    ExtraTreesClassifierEntr_STACKER_l0   0.845350       1.083774   10.500225                1.083774          10.500225            0       True          4\n",
            "18    KNeighborsClassifierDist_STACKER_l0   0.830189       1.031806    0.080110                1.031806           0.080110            0       True          6\n",
            "19    KNeighborsClassifierUnif_STACKER_l0   0.829852       1.028918    0.076203                1.028918           0.076203            0       True          5\n",
            "20    KNeighborsClassifierDist_STACKER_l1   0.829515       7.799825  142.139905                1.029599           0.099308            1       True         17\n",
            "21    KNeighborsClassifierUnif_STACKER_l1   0.828504       7.802547  142.153852                1.032320           0.113255            1       True         16\n",
            "Number of models trained: 22\n",
            "Types of models trained:\n",
            "{'StackerEnsembleModel_LGB', 'StackerEnsembleModel_Catboost', 'WeightedEnsembleModel', 'StackerEnsembleModel_KNN', 'StackerEnsembleModel_XT', 'StackerEnsembleModel_RF', 'StackerEnsembleModel_TabularNeuralNet'}\n",
            "Bagging used: True  (with 10 folds)\n",
            "Stack-ensembling used: True  (with 1 levels)\n",
            "Hyperparameter-tuning used: False \n",
            "User-specified hyperparameters:\n",
            "{'default': {'NN': [{}], 'GBM': [{}], 'CAT': [{}], 'RF': [{'criterion': 'gini', 'AG_args': {'name_suffix': 'Gini', 'problem_types': ['binary', 'multiclass']}}, {'criterion': 'entropy', 'AG_args': {'name_suffix': 'Entr', 'problem_types': ['binary', 'multiclass']}}], 'XT': [{'criterion': 'gini', 'AG_args': {'name_suffix': 'Gini', 'problem_types': ['binary', 'multiclass']}}, {'criterion': 'entropy', 'AG_args': {'name_suffix': 'Entr', 'problem_types': ['binary', 'multiclass']}}], 'KNN': [{'weights': 'uniform', 'AG_args': {'name_suffix': 'Unif'}}, {'weights': 'distance', 'AG_args': {'name_suffix': 'Dist'}}], 'custom': [{'num_boost_round': 10000, 'num_threads': -1, 'objective': 'binary', 'verbose': -1, 'boosting_type': 'gbdt', 'learning_rate': 0.03, 'num_leaves': 128, 'feature_fraction': 0.9, 'min_data_in_leaf': 5, 'two_round': True, 'seed_value': 0, 'AG_args': {'model_type': 'GBM', 'name_suffix': 'Custom', 'disable_in_hpo': True}}]}}\n",
            "Plot summary of models saved to file: AutogluonModels/ag-20200905_073201/SummaryOfModels.html\n",
            "*** End of fit() summary ***\n"
          ],
          "name": "stdout"
        }
      ]
    },
    {
      "cell_type": "code",
      "metadata": {
        "id": "HoQnMPam_I9k",
        "colab_type": "code",
        "colab": {
          "base_uri": "https://localhost:8080/",
          "height": 428
        },
        "outputId": "7d74b748-1984-4fe6-bf10-ec67f6539ac3"
      },
      "source": [
        "leaderboard = predictor.leaderboard(test_data)"
      ],
      "execution_count": null,
      "outputs": [
        {
          "output_type": "stream",
          "text": [
            "                                    model  score_test  score_val  pred_time_test  pred_time_val    fit_time  pred_time_test_marginal  pred_time_val_marginal  fit_time_marginal  stack_level  can_infer  fit_order\n",
            "0          NeuralNetClassifier_STACKER_l1    0.860063   0.852426       12.143058       7.035604  230.993892                 0.825778                0.265378          88.953295            1       True         20\n",
            "1          NeuralNetClassifier_STACKER_l0    0.858491   0.851415        0.618822       0.199353   74.811594                 0.618822                0.199353          74.811594            0       True          9\n",
            "2     ExtraTreesClassifierGini_STACKER_l1    0.856132   0.850741       13.729651       7.866424  151.982830                 2.412372                1.096198           9.942233            1       True         14\n",
            "3     ExtraTreesClassifierEntr_STACKER_l1    0.856132   0.848383       13.748979       7.971996  153.686737                 2.431699                1.201770          11.646140            1       True         15\n",
            "4   RandomForestClassifierGini_STACKER_l0    0.854560   0.846361        1.455954       1.083139   12.264009                 1.455954                1.083139          12.264009            0       True          1\n",
            "5   RandomForestClassifierEntr_STACKER_l0    0.854560   0.848046        1.754457       1.082139   14.759146                 1.754457                1.082139          14.759146            0       True          2\n",
            "6           CatboostClassifier_STACKER_l1    0.854560   0.856806       11.345110       6.834729  152.955706                 0.027830                0.064503          10.915109            1       True         19\n",
            "7   RandomForestClassifierGini_STACKER_l1    0.854560   0.854447       12.939373       7.865454  160.515826                 1.622093                1.095228          18.475229            1       True         12\n",
            "8   RandomForestClassifierEntr_STACKER_l1    0.854560   0.855458       13.034111       7.868326  166.865559                 1.716831                1.098100          24.824962            1       True         13\n",
            "9     ExtraTreesClassifierGini_STACKER_l0    0.853774   0.847372        2.547702       1.084097    9.327802                 2.547702                1.084097           9.327802            0       True          3\n",
            "10    ExtraTreesClassifierEntr_STACKER_l0    0.853774   0.845350        2.554479       1.083774   10.500225                 2.554479                1.083774          10.500225            0       True          4\n",
            "11          CatboostClassifier_STACKER_l0    0.852987   0.854111        0.020511       0.050408    6.357478                 0.020511                0.050408           6.357478            0       True          8\n",
            "12                weighted_ensemble_k0_l1    0.852987   0.854111        0.022876       0.057530    7.832516                 0.002365                0.007122           1.475039            1       True         11\n",
            "13          LightGBMClassifier_STACKER_l0    0.852987   0.853774        0.128582       0.062281    3.907573                 0.128582                0.062281           3.907573            0       True          7\n",
            "14    LightGBMClassifierCustom_STACKER_l0    0.852987   0.849730        0.168885       0.064311    9.956459                 0.168885                0.064311           9.956459            0       True         10\n",
            "15          LightGBMClassifier_STACKER_l1    0.852987   0.857143       11.430416       6.840615  147.841048                 0.113136                0.070389           5.800451            1       True         18\n",
            "16    LightGBMClassifierCustom_STACKER_l1    0.852987   0.855795       11.544681       6.852466  163.072498                 0.227401                0.082240          21.031901            1       True         21\n",
            "17                weighted_ensemble_k0_l2    0.852987   0.857480       14.772500       9.040414  192.588522                 0.003160                0.006470           1.447283            2       True         22\n",
            "18    KNeighborsClassifierDist_STACKER_l0    0.841981   0.830189        1.034169       1.031806    0.080110                 1.034169                1.031806           0.080110            0       True          6\n",
            "19    KNeighborsClassifierDist_STACKER_l1    0.841981   0.829515       12.357098       7.799825  142.139905                 1.039819                1.029599           0.099308            1       True         17\n",
            "20    KNeighborsClassifierUnif_STACKER_l0    0.841195   0.829852        1.033720       1.028918    0.076203                 1.033720                1.028918           0.076203            0       True          5\n",
            "21    KNeighborsClassifierUnif_STACKER_l1    0.841195   0.828504       12.356203       7.802547  142.153852                 1.038923                1.032320           0.113255            1       True         16\n"
          ],
          "name": "stdout"
        }
      ]
    },
    {
      "cell_type": "code",
      "metadata": {
        "id": "hPT63wA1_Zlj",
        "colab_type": "code",
        "colab": {}
      },
      "source": [
        "# TOTAL TIME TAKEN IS 5 MIN 15 SEC"
      ],
      "execution_count": null,
      "outputs": []
    },
    {
      "cell_type": "code",
      "metadata": {
        "id": "nCEThDViG42F",
        "colab_type": "code",
        "colab": {}
      },
      "source": [
        ""
      ],
      "execution_count": null,
      "outputs": []
    }
  ]
}