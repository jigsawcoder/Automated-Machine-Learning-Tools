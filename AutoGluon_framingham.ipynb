{
  "nbformat": 4,
  "nbformat_minor": 0,
  "metadata": {
    "colab": {
      "name": "AutoGluon_framingham.ipynb",
      "provenance": [],
      "collapsed_sections": [],
      "mount_file_id": "1PLOJS7cCCWyUyEGEiAI06hbjih59KF-M",
      "authorship_tag": "ABX9TyNQuUWXQbhBXeBAQQ4fVUPa",
      "include_colab_link": true
    },
    "kernelspec": {
      "name": "python3",
      "display_name": "Python 3"
    }
  },
  "cells": [
    {
      "cell_type": "markdown",
      "metadata": {
        "id": "view-in-github",
        "colab_type": "text"
      },
      "source": [
        "<a href=\"https://colab.research.google.com/github/jigsawcoder/Automated-Machine-Learning-Tools/blob/master/AutoGluon_framingham.ipynb\" target=\"_parent\"><img src=\"https://colab.research.google.com/assets/colab-badge.svg\" alt=\"Open In Colab\"/></a>"
      ]
    },
    {
      "cell_type": "code",
      "metadata": {
        "id": "SsoRzK2ZdzGv",
        "outputId": "8dedf091-0f9a-4be4-f4d6-ed1ede47622f",
        "colab": {
          "base_uri": "https://localhost:8080/",
          "height": 326
        }
      },
      "source": [
        "#pip install -U --pre \"mxnet>=1.7.0b20200713, <2.0.0\" -f https://sxjscience.github.io/KDD2020/\n"
      ],
      "execution_count": 1,
      "outputs": [
        {
          "output_type": "stream",
          "text": [
            "Looking in links: https://sxjscience.github.io/KDD2020/\n",
            "Collecting mxnet<2.0.0,>=1.7.0b20200713\n",
            "\u001b[?25l  Downloading https://files.pythonhosted.org/packages/29/bb/54cbabe428351c06d10903c658878d29ee7026efbe45133fd133598d6eb6/mxnet-1.7.0.post1-py2.py3-none-manylinux2014_x86_64.whl (55.0MB)\n",
            "\u001b[K     |████████████████████████████████| 55.0MB 78kB/s \n",
            "\u001b[?25hRequirement already satisfied, skipping upgrade: requests<3,>=2.20.0 in /usr/local/lib/python3.6/dist-packages (from mxnet<2.0.0,>=1.7.0b20200713) (2.23.0)\n",
            "Requirement already satisfied, skipping upgrade: numpy<2.0.0,>1.16.0 in /usr/local/lib/python3.6/dist-packages (from mxnet<2.0.0,>=1.7.0b20200713) (1.18.5)\n",
            "Collecting graphviz<0.9.0,>=0.8.1\n",
            "  Downloading https://files.pythonhosted.org/packages/53/39/4ab213673844e0c004bed8a0781a0721a3f6bb23eb8854ee75c236428892/graphviz-0.8.4-py2.py3-none-any.whl\n",
            "Requirement already satisfied, skipping upgrade: urllib3!=1.25.0,!=1.25.1,<1.26,>=1.21.1 in /usr/local/lib/python3.6/dist-packages (from requests<3,>=2.20.0->mxnet<2.0.0,>=1.7.0b20200713) (1.24.3)\n",
            "Requirement already satisfied, skipping upgrade: certifi>=2017.4.17 in /usr/local/lib/python3.6/dist-packages (from requests<3,>=2.20.0->mxnet<2.0.0,>=1.7.0b20200713) (2020.6.20)\n",
            "Requirement already satisfied, skipping upgrade: idna<3,>=2.5 in /usr/local/lib/python3.6/dist-packages (from requests<3,>=2.20.0->mxnet<2.0.0,>=1.7.0b20200713) (2.10)\n",
            "Requirement already satisfied, skipping upgrade: chardet<4,>=3.0.2 in /usr/local/lib/python3.6/dist-packages (from requests<3,>=2.20.0->mxnet<2.0.0,>=1.7.0b20200713) (3.0.4)\n",
            "Installing collected packages: graphviz, mxnet\n",
            "  Found existing installation: graphviz 0.10.1\n",
            "    Uninstalling graphviz-0.10.1:\n",
            "      Successfully uninstalled graphviz-0.10.1\n",
            "Successfully installed graphviz-0.8.4 mxnet-1.7.0.post1\n"
          ],
          "name": "stdout"
        }
      ]
    },
    {
      "cell_type": "code",
      "metadata": {
        "id": "g8y3l-TnAnpg",
        "outputId": "6035fe55-aa10-4b79-8c12-8b36d3b6ebe8",
        "colab": {
          "base_uri": "https://localhost:8080/",
          "height": 1000
        }
      },
      "source": [
        "#pip install autogluon"
      ],
      "execution_count": 2,
      "outputs": [
        {
          "output_type": "stream",
          "text": [
            "Collecting autogluon\n",
            "\u001b[?25l  Downloading https://files.pythonhosted.org/packages/91/51/ac91303a2eb3aa90e21056b42edcd1568fd8d971723600b3bc3868776107/autogluon-0.0.14-py3-none-any.whl (622kB)\n",
            "\u001b[K     |████████████████████████████████| 624kB 8.9MB/s \n",
            "\u001b[?25hCollecting lightgbm<4.0,>=3.0\n",
            "\u001b[?25l  Downloading https://files.pythonhosted.org/packages/25/47/f8ef524e15ff86f5246cb4e1cee200b747ddb2536429fa021cc5f17ea40a/lightgbm-3.0.0-py2.py3-none-manylinux1_x86_64.whl (1.7MB)\n",
            "\u001b[K     |████████████████████████████████| 1.8MB 22.8MB/s \n",
            "\u001b[?25hRequirement already satisfied: networkx<3.0,>=2.3 in /usr/local/lib/python3.6/dist-packages (from autogluon) (2.5)\n",
            "Collecting Pillow<=6.2.1\n",
            "\u001b[?25l  Downloading https://files.pythonhosted.org/packages/10/5c/0e94e689de2476c4c5e644a3bd223a1c1b9e2bdb7c510191750be74fa786/Pillow-6.2.1-cp36-cp36m-manylinux1_x86_64.whl (2.1MB)\n",
            "\u001b[K     |████████████████████████████████| 2.1MB 58.7MB/s \n",
            "\u001b[?25hRequirement already satisfied: scikit-learn<0.24,>=0.22.0 in /usr/local/lib/python3.6/dist-packages (from autogluon) (0.22.2.post1)\n",
            "Requirement already satisfied: psutil<=5.7.0,>=5.0.0 in /usr/local/lib/python3.6/dist-packages (from autogluon) (5.4.8)\n",
            "Requirement already satisfied: numpy>=1.16.0 in /usr/local/lib/python3.6/dist-packages (from autogluon) (1.18.5)\n",
            "Requirement already satisfied: tqdm>=4.38.0 in /usr/local/lib/python3.6/dist-packages (from autogluon) (4.41.1)\n",
            "Collecting scikit-optimize\n",
            "\u001b[?25l  Downloading https://files.pythonhosted.org/packages/8b/03/be33e89f55866065a02e515c5b319304a801a9f1027a9b311a9b1d1f8dc7/scikit_optimize-0.8.1-py2.py3-none-any.whl (101kB)\n",
            "\u001b[K     |████████████████████████████████| 102kB 9.2MB/s \n",
            "\u001b[?25hRequirement already satisfied: scipy>=1.3.3 in /usr/local/lib/python3.6/dist-packages (from autogluon) (1.4.1)\n",
            "Requirement already satisfied: pyarrow<=1.0.0 in /usr/local/lib/python3.6/dist-packages (from autogluon) (0.14.1)\n",
            "Collecting catboost<0.25,>=0.23.0\n",
            "\u001b[?25l  Downloading https://files.pythonhosted.org/packages/90/86/c3dcb600b4f9e7584ed90ea9d30a717fb5c0111574675f442c3e7bc19535/catboost-0.24.1-cp36-none-manylinux1_x86_64.whl (66.1MB)\n",
            "\u001b[K     |████████████████████████████████| 66.1MB 110kB/s \n",
            "\u001b[?25hRequirement already satisfied: pytest in /usr/local/lib/python3.6/dist-packages (from autogluon) (3.6.4)\n",
            "Requirement already satisfied: matplotlib in /usr/local/lib/python3.6/dist-packages (from autogluon) (3.2.2)\n",
            "Collecting autogluon-contrib-nlp\n",
            "\u001b[?25l  Downloading https://files.pythonhosted.org/packages/15/df/fa46d8077b2821aba65a7d832eb6ee86fc67c5f180dc889144e96f45c0c4/autogluon_contrib_nlp-0.0.1b20200815-py3-none-any.whl (147kB)\n",
            "\u001b[K     |████████████████████████████████| 153kB 66.7MB/s \n",
            "\u001b[?25hCollecting paramiko>=2.4\n",
            "\u001b[?25l  Downloading https://files.pythonhosted.org/packages/95/19/124e9287b43e6ff3ebb9cdea3e5e8e88475a873c05ccdf8b7e20d2c4201e/paramiko-2.7.2-py2.py3-none-any.whl (206kB)\n",
            "\u001b[K     |████████████████████████████████| 215kB 63.3MB/s \n",
            "\u001b[?25hCollecting cryptography>=2.8\n",
            "\u001b[?25l  Downloading https://files.pythonhosted.org/packages/33/62/30f6936941d87a5ed72efb24249437824f6b2c953901245b58c91fde2f27/cryptography-3.1.1-cp35-abi3-manylinux2010_x86_64.whl (2.6MB)\n",
            "\u001b[K     |████████████████████████████████| 2.6MB 61.7MB/s \n",
            "\u001b[?25hCollecting distributed>=2.6.0\n",
            "\u001b[?25l  Downloading https://files.pythonhosted.org/packages/70/70/cc541748094fb20ea45437da3c65cf28f8ff8d4afa54cd8ab776067859b1/distributed-2.29.0-py3-none-any.whl (653kB)\n",
            "\u001b[K     |████████████████████████████████| 655kB 66.5MB/s \n",
            "\u001b[?25hRequirement already satisfied: tornado>=5.0.1 in /usr/local/lib/python3.6/dist-packages (from autogluon) (5.1.1)\n",
            "Collecting gluoncv<1.0,>=0.5.0\n",
            "\u001b[?25l  Downloading https://files.pythonhosted.org/packages/b8/d7/74b530c461ac3eb90f6045a645a59450de1f3d616a4926e371daa021dbd8/gluoncv-0.8.0-py2.py3-none-any.whl (810kB)\n",
            "\u001b[K     |████████████████████████████████| 819kB 71.6MB/s \n",
            "\u001b[?25hRequirement already satisfied: pandas<2.0,>=1.0.0 in /usr/local/lib/python3.6/dist-packages (from autogluon) (1.1.2)\n",
            "Requirement already satisfied: cython in /usr/local/lib/python3.6/dist-packages (from autogluon) (0.29.21)\n",
            "Requirement already satisfied: dask>=2.6.0 in /usr/local/lib/python3.6/dist-packages (from autogluon) (2.12.0)\n",
            "Collecting fastparquet==0.4.1\n",
            "\u001b[?25l  Downloading https://files.pythonhosted.org/packages/28/b9/844e32d0e3739e5695057dff3a3b9f4abc0fcccff466fdaadb8fedb0ee1d/fastparquet-0.4.1.tar.gz (28.6MB)\n",
            "\u001b[K     |████████████████████████████████| 28.6MB 156kB/s \n",
            "\u001b[?25hCollecting boto3\n",
            "\u001b[?25l  Downloading https://files.pythonhosted.org/packages/92/5b/f855226132309de329a80eec355954be31d98e801da761ab127b743f1b87/boto3-1.15.12-py2.py3-none-any.whl (129kB)\n",
            "\u001b[K     |████████████████████████████████| 133kB 69.5MB/s \n",
            "\u001b[?25hCollecting ConfigSpace<=0.4.10\n",
            "\u001b[?25l  Downloading https://files.pythonhosted.org/packages/42/de/4e8e4f26332fc65404f52baa112defbf822b6738b60bfa6b2993f5c60933/ConfigSpace-0.4.10.tar.gz (882kB)\n",
            "\u001b[K     |████████████████████████████████| 890kB 59.2MB/s \n",
            "\u001b[?25hCollecting openml\n",
            "\u001b[?25l  Downloading https://files.pythonhosted.org/packages/68/5b/cd32bb85651eccebfb489cc6ef7f060ce0f62350a6239127e398313090cc/openml-0.10.2.tar.gz (158kB)\n",
            "\u001b[K     |████████████████████████████████| 163kB 64.2MB/s \n",
            "\u001b[?25hRequirement already satisfied: graphviz<0.9.0,>=0.8.1 in /usr/local/lib/python3.6/dist-packages (from autogluon) (0.8.4)\n",
            "Requirement already satisfied: requests in /usr/local/lib/python3.6/dist-packages (from autogluon) (2.23.0)\n",
            "Requirement already satisfied: decorator>=4.3.0 in /usr/local/lib/python3.6/dist-packages (from networkx<3.0,>=2.3->autogluon) (4.4.2)\n",
            "Requirement already satisfied: joblib>=0.11 in /usr/local/lib/python3.6/dist-packages (from scikit-learn<0.24,>=0.22.0->autogluon) (0.16.0)\n",
            "Collecting pyaml>=16.9\n",
            "  Downloading https://files.pythonhosted.org/packages/15/c4/1310a054d33abc318426a956e7d6df0df76a6ddfa9c66f6310274fb75d42/pyaml-20.4.0-py2.py3-none-any.whl\n",
            "Requirement already satisfied: six>=1.0.0 in /usr/local/lib/python3.6/dist-packages (from pyarrow<=1.0.0->autogluon) (1.15.0)\n",
            "Requirement already satisfied: plotly in /usr/local/lib/python3.6/dist-packages (from catboost<0.25,>=0.23.0->autogluon) (4.4.1)\n",
            "Requirement already satisfied: pluggy<0.8,>=0.5 in /usr/local/lib/python3.6/dist-packages (from pytest->autogluon) (0.7.1)\n",
            "Requirement already satisfied: setuptools in /usr/local/lib/python3.6/dist-packages (from pytest->autogluon) (50.3.0)\n",
            "Requirement already satisfied: py>=1.5.0 in /usr/local/lib/python3.6/dist-packages (from pytest->autogluon) (1.9.0)\n",
            "Requirement already satisfied: more-itertools>=4.0.0 in /usr/local/lib/python3.6/dist-packages (from pytest->autogluon) (8.5.0)\n",
            "Requirement already satisfied: atomicwrites>=1.0 in /usr/local/lib/python3.6/dist-packages (from pytest->autogluon) (1.4.0)\n",
            "Requirement already satisfied: attrs>=17.4.0 in /usr/local/lib/python3.6/dist-packages (from pytest->autogluon) (20.2.0)\n",
            "Requirement already satisfied: cycler>=0.10 in /usr/local/lib/python3.6/dist-packages (from matplotlib->autogluon) (0.10.0)\n",
            "Requirement already satisfied: python-dateutil>=2.1 in /usr/local/lib/python3.6/dist-packages (from matplotlib->autogluon) (2.8.1)\n",
            "Requirement already satisfied: pyparsing!=2.0.4,!=2.1.2,!=2.1.6,>=2.0.1 in /usr/local/lib/python3.6/dist-packages (from matplotlib->autogluon) (2.4.7)\n",
            "Requirement already satisfied: kiwisolver>=1.0.1 in /usr/local/lib/python3.6/dist-packages (from matplotlib->autogluon) (1.2.0)\n",
            "Collecting sentencepiece\n",
            "\u001b[?25l  Downloading https://files.pythonhosted.org/packages/d4/a4/d0a884c4300004a78cca907a6ff9a5e9fe4f090f5d95ab341c53d28cbc58/sentencepiece-0.1.91-cp36-cp36m-manylinux1_x86_64.whl (1.1MB)\n",
            "\u001b[K     |████████████████████████████████| 1.1MB 58.2MB/s \n",
            "\u001b[?25hCollecting yacs>=0.1.6\n",
            "  Downloading https://files.pythonhosted.org/packages/38/4f/fe9a4d472aa867878ce3bb7efb16654c5d63672b86dc0e6e953a67018433/yacs-0.1.8-py3-none-any.whl\n",
            "Collecting sacremoses>=0.0.38\n",
            "\u001b[?25l  Downloading https://files.pythonhosted.org/packages/7d/34/09d19aff26edcc8eb2a01bed8e98f13a1537005d31e95233fd48216eed10/sacremoses-0.0.43.tar.gz (883kB)\n",
            "\u001b[K     |████████████████████████████████| 890kB 54.1MB/s \n",
            "\u001b[?25hCollecting contextvars\n",
            "  Downloading https://files.pythonhosted.org/packages/83/96/55b82d9f13763be9d672622e1b8106c85acb83edd7cc2fa5bc67cd9877e9/contextvars-2.4.tar.gz\n",
            "Requirement already satisfied: regex in /usr/local/lib/python3.6/dist-packages (from autogluon-contrib-nlp->autogluon) (2019.12.20)\n",
            "Collecting flake8\n",
            "\u001b[?25l  Downloading https://files.pythonhosted.org/packages/d4/ca/3971802ee6251da1abead1a22831d7f4743781e2f743bd266bdd2f46c19b/flake8-3.8.4-py2.py3-none-any.whl (72kB)\n",
            "\u001b[K     |████████████████████████████████| 81kB 8.4MB/s \n",
            "\u001b[?25hCollecting sacrebleu\n",
            "\u001b[?25l  Downloading https://files.pythonhosted.org/packages/a3/c4/8e948f601a4f9609e8b2b58f31966cb13cf17b940b82aa3e767f01c42c52/sacrebleu-1.4.14-py3-none-any.whl (64kB)\n",
            "\u001b[K     |████████████████████████████████| 71kB 6.9MB/s \n",
            "\u001b[?25hRequirement already satisfied: protobuf in /usr/local/lib/python3.6/dist-packages (from autogluon-contrib-nlp->autogluon) (3.12.4)\n",
            "Collecting tokenizers>=0.7.0\n",
            "\u001b[?25l  Downloading https://files.pythonhosted.org/packages/e9/ee/fedc3509145ad60fe5b418783f4a4c1b5462a4f0e8c7bbdbda52bdcda486/tokenizers-0.8.1-cp36-cp36m-manylinux1_x86_64.whl (3.0MB)\n",
            "\u001b[K     |████████████████████████████████| 3.0MB 69.7MB/s \n",
            "\u001b[?25hCollecting pynacl>=1.0.1\n",
            "\u001b[?25l  Downloading https://files.pythonhosted.org/packages/9d/57/2f5e6226a674b2bcb6db531e8b383079b678df5b10cdaa610d6cf20d77ba/PyNaCl-1.4.0-cp35-abi3-manylinux1_x86_64.whl (961kB)\n",
            "\u001b[K     |████████████████████████████████| 962kB 66.4MB/s \n",
            "\u001b[?25hCollecting bcrypt>=3.1.3\n",
            "\u001b[?25l  Downloading https://files.pythonhosted.org/packages/26/70/6d218afbe4c73538053c1016dd631e8f25fffc10cd01f5c272d7acf3c03d/bcrypt-3.2.0-cp36-abi3-manylinux2010_x86_64.whl (63kB)\n",
            "\u001b[K     |████████████████████████████████| 71kB 6.9MB/s \n",
            "\u001b[?25hRequirement already satisfied: cffi!=1.11.3,>=1.8 in /usr/local/lib/python3.6/dist-packages (from cryptography>=2.8->autogluon) (1.14.3)\n",
            "Requirement already satisfied: sortedcontainers!=2.0.0,!=2.0.1 in /usr/local/lib/python3.6/dist-packages (from distributed>=2.6.0->autogluon) (2.2.2)\n",
            "Requirement already satisfied: msgpack>=0.6.0 in /usr/local/lib/python3.6/dist-packages (from distributed>=2.6.0->autogluon) (1.0.0)\n",
            "Requirement already satisfied: toolz>=0.8.2 in /usr/local/lib/python3.6/dist-packages (from distributed>=2.6.0->autogluon) (0.11.1)\n",
            "Collecting cloudpickle>=1.5.0\n",
            "  Downloading https://files.pythonhosted.org/packages/e7/e3/898487e5dbeb612054cf2e0c188463acb358167fef749c53c8bb8918cea1/cloudpickle-1.6.0-py3-none-any.whl\n",
            "Requirement already satisfied: tblib>=1.6.0 in /usr/local/lib/python3.6/dist-packages (from distributed>=2.6.0->autogluon) (1.7.0)\n",
            "Requirement already satisfied: click>=6.6 in /usr/local/lib/python3.6/dist-packages (from distributed>=2.6.0->autogluon) (7.1.2)\n",
            "Requirement already satisfied: pyyaml in /usr/local/lib/python3.6/dist-packages (from distributed>=2.6.0->autogluon) (3.13)\n",
            "Requirement already satisfied: zict>=0.1.3 in /usr/local/lib/python3.6/dist-packages (from distributed>=2.6.0->autogluon) (2.0.0)\n",
            "Collecting portalocker\n",
            "  Downloading https://files.pythonhosted.org/packages/89/a6/3814b7107e0788040870e8825eebf214d72166adf656ba7d4bf14759a06a/portalocker-2.0.0-py2.py3-none-any.whl\n",
            "Requirement already satisfied: pytz>=2017.2 in /usr/local/lib/python3.6/dist-packages (from pandas<2.0,>=1.0.0->autogluon) (2018.9)\n",
            "Requirement already satisfied: numba>=0.28 in /usr/local/lib/python3.6/dist-packages (from fastparquet==0.4.1->autogluon) (0.48.0)\n",
            "Requirement already satisfied: packaging in /usr/local/lib/python3.6/dist-packages (from fastparquet==0.4.1->autogluon) (20.4)\n",
            "Collecting thrift>=0.11.0\n",
            "\u001b[?25l  Downloading https://files.pythonhosted.org/packages/97/1e/3284d19d7be99305eda145b8aa46b0c33244e4a496ec66440dac19f8274d/thrift-0.13.0.tar.gz (59kB)\n",
            "\u001b[K     |████████████████████████████████| 61kB 6.4MB/s \n",
            "\u001b[?25hCollecting jmespath<1.0.0,>=0.7.1\n",
            "  Downloading https://files.pythonhosted.org/packages/07/cb/5f001272b6faeb23c1c9e0acc04d48eaaf5c862c17709d20e3469c6e0139/jmespath-0.10.0-py2.py3-none-any.whl\n",
            "Collecting botocore<1.19.0,>=1.18.12\n",
            "\u001b[?25l  Downloading https://files.pythonhosted.org/packages/14/d5/9d0db656de5bb8c431232d5976526ca5b6ac1e4563f95ce6cd842bbccff4/botocore-1.18.12-py2.py3-none-any.whl (6.7MB)\n",
            "\u001b[K     |████████████████████████████████| 6.7MB 54.6MB/s \n",
            "\u001b[?25hCollecting s3transfer<0.4.0,>=0.3.0\n",
            "\u001b[?25l  Downloading https://files.pythonhosted.org/packages/69/79/e6afb3d8b0b4e96cefbdc690f741d7dd24547ff1f94240c997a26fa908d3/s3transfer-0.3.3-py2.py3-none-any.whl (69kB)\n",
            "\u001b[K     |████████████████████████████████| 71kB 6.7MB/s \n",
            "\u001b[?25hCollecting typing\n",
            "\u001b[?25l  Downloading https://files.pythonhosted.org/packages/05/d9/6eebe19d46bd05360c9a9aae822e67a80f9242aabbfc58b641b957546607/typing-3.7.4.3.tar.gz (78kB)\n",
            "\u001b[K     |████████████████████████████████| 81kB 8.5MB/s \n",
            "\u001b[?25hCollecting liac-arff>=2.4.0\n",
            "  Downloading https://files.pythonhosted.org/packages/6e/43/73944aa5ad2b3185c0f0ba0ee6f73277f2eb51782ca6ccf3e6793caf209a/liac-arff-2.5.0.tar.gz\n",
            "Collecting xmltodict\n",
            "  Downloading https://files.pythonhosted.org/packages/28/fd/30d5c1d3ac29ce229f6bdc40bbc20b28f716e8b363140c26eff19122d8a5/xmltodict-0.12.0-py2.py3-none-any.whl\n",
            "Requirement already satisfied: idna<3,>=2.5 in /usr/local/lib/python3.6/dist-packages (from requests->autogluon) (2.10)\n",
            "Requirement already satisfied: certifi>=2017.4.17 in /usr/local/lib/python3.6/dist-packages (from requests->autogluon) (2020.6.20)\n",
            "Requirement already satisfied: urllib3!=1.25.0,!=1.25.1,<1.26,>=1.21.1 in /usr/local/lib/python3.6/dist-packages (from requests->autogluon) (1.24.3)\n",
            "Requirement already satisfied: chardet<4,>=3.0.2 in /usr/local/lib/python3.6/dist-packages (from requests->autogluon) (3.0.4)\n",
            "Requirement already satisfied: retrying>=1.3.3 in /usr/local/lib/python3.6/dist-packages (from plotly->catboost<0.25,>=0.23.0->autogluon) (1.3.3)\n",
            "Collecting immutables>=0.9\n",
            "\u001b[?25l  Downloading https://files.pythonhosted.org/packages/99/e0/ea6fd4697120327d26773b5a84853f897a68e33d3f9376b00a8ff96e4f63/immutables-0.14-cp36-cp36m-manylinux1_x86_64.whl (98kB)\n",
            "\u001b[K     |████████████████████████████████| 102kB 9.1MB/s \n",
            "\u001b[?25hCollecting mccabe<0.7.0,>=0.6.0\n",
            "  Downloading https://files.pythonhosted.org/packages/87/89/479dc97e18549e21354893e4ee4ef36db1d237534982482c3681ee6e7b57/mccabe-0.6.1-py2.py3-none-any.whl\n",
            "Collecting pycodestyle<2.7.0,>=2.6.0a1\n",
            "\u001b[?25l  Downloading https://files.pythonhosted.org/packages/10/5b/88879fb861ab79aef45c7e199cae3ef7af487b5603dcb363517a50602dd7/pycodestyle-2.6.0-py2.py3-none-any.whl (41kB)\n",
            "\u001b[K     |████████████████████████████████| 51kB 322kB/s \n",
            "\u001b[?25hRequirement already satisfied: importlib-metadata; python_version < \"3.8\" in /usr/local/lib/python3.6/dist-packages (from flake8->autogluon-contrib-nlp->autogluon) (2.0.0)\n",
            "Collecting pyflakes<2.3.0,>=2.2.0\n",
            "\u001b[?25l  Downloading https://files.pythonhosted.org/packages/69/5b/fd01b0c696f2f9a6d2c839883b642493b431f28fa32b29abc465ef675473/pyflakes-2.2.0-py2.py3-none-any.whl (66kB)\n",
            "\u001b[K     |████████████████████████████████| 71kB 6.6MB/s \n",
            "\u001b[?25hRequirement already satisfied: pycparser in /usr/local/lib/python3.6/dist-packages (from cffi!=1.11.3,>=1.8->cryptography>=2.8->autogluon) (2.20)\n",
            "Requirement already satisfied: heapdict in /usr/local/lib/python3.6/dist-packages (from zict>=0.1.3->distributed>=2.6.0->autogluon) (1.0.1)\n",
            "Requirement already satisfied: llvmlite<0.32.0,>=0.31.0dev0 in /usr/local/lib/python3.6/dist-packages (from numba>=0.28->fastparquet==0.4.1->autogluon) (0.31.0)\n",
            "Requirement already satisfied: zipp>=0.5 in /usr/local/lib/python3.6/dist-packages (from importlib-metadata; python_version < \"3.8\"->flake8->autogluon-contrib-nlp->autogluon) (3.2.0)\n",
            "Building wheels for collected packages: fastparquet, ConfigSpace, openml, sacremoses, contextvars, thrift, typing, liac-arff\n",
            "  Building wheel for fastparquet (setup.py) ... \u001b[?25l\u001b[?25hdone\n",
            "  Created wheel for fastparquet: filename=fastparquet-0.4.1-cp36-cp36m-linux_x86_64.whl size=7125489 sha256=a3bbe946a193c62c80ba1180a3d63df6df85d2b347b796fe7b16d8e0217928e7\n",
            "  Stored in directory: /root/.cache/pip/wheels/10/45/cf/492ccb908adde1dd2551bb509a56e4096cce9487167f525120\n",
            "  Building wheel for ConfigSpace (setup.py) ... \u001b[?25l\u001b[?25hdone\n",
            "  Created wheel for ConfigSpace: filename=ConfigSpace-0.4.10-cp36-cp36m-linux_x86_64.whl size=2712220 sha256=5759da76496afe640c7d194ce40f326b55855390cc8bc7087098d3d394c4d7de\n",
            "  Stored in directory: /root/.cache/pip/wheels/75/83/cb/28dd42bac69c8867d485138030daa83841c7f84afe68b2fdf7\n",
            "  Building wheel for openml (setup.py) ... \u001b[?25l\u001b[?25hdone\n",
            "  Created wheel for openml: filename=openml-0.10.2-cp36-none-any.whl size=190320 sha256=26fd5212ef4728cb2d1d1e563fbfd8b121072642da30f79b522fd74cd194fce3\n",
            "  Stored in directory: /root/.cache/pip/wheels/71/ec/5f/aaad9e184680b0b8f1a02ff0ec640cace5adf5bff7bb0af1b4\n",
            "  Building wheel for sacremoses (setup.py) ... \u001b[?25l\u001b[?25hdone\n",
            "  Created wheel for sacremoses: filename=sacremoses-0.0.43-cp36-none-any.whl size=893257 sha256=817c19114e5d37eb76ee052466cda49832d3f59938836332a15dfbe5dbc08699\n",
            "  Stored in directory: /root/.cache/pip/wheels/29/3c/fd/7ce5c3f0666dab31a50123635e6fb5e19ceb42ce38d4e58f45\n",
            "  Building wheel for contextvars (setup.py) ... \u001b[?25l\u001b[?25hdone\n",
            "  Created wheel for contextvars: filename=contextvars-2.4-cp36-none-any.whl size=7666 sha256=c71c6dc484304482eed8249aca06bbf127593b048e1aa483d43ee4ca7d67c4ec\n",
            "  Stored in directory: /root/.cache/pip/wheels/a5/7d/68/1ebae2668bda2228686e3c1cf16f2c2384cea6e9334ad5f6de\n",
            "  Building wheel for thrift (setup.py) ... \u001b[?25l\u001b[?25hdone\n",
            "  Created wheel for thrift: filename=thrift-0.13.0-cp36-cp36m-linux_x86_64.whl size=345226 sha256=e9456730cec37c279c03de1948ac12bd87b71bbc426f4276c942441033bf306f\n",
            "  Stored in directory: /root/.cache/pip/wheels/02/a2/46/689ccfcf40155c23edc7cdbd9de488611c8fdf49ff34b1706e\n",
            "  Building wheel for typing (setup.py) ... \u001b[?25l\u001b[?25hdone\n",
            "  Created wheel for typing: filename=typing-3.7.4.3-cp36-none-any.whl size=26307 sha256=971ef628433a7b42c63cb8e68e1671ec9b6f0e6bf9a837a45b603af84bc58cf6\n",
            "  Stored in directory: /root/.cache/pip/wheels/2d/04/41/8e1836e79581989c22eebac3f4e70aaac9af07b0908da173be\n",
            "  Building wheel for liac-arff (setup.py) ... \u001b[?25l\u001b[?25hdone\n",
            "  Created wheel for liac-arff: filename=liac_arff-2.5.0-cp36-none-any.whl size=11734 sha256=08ba8662fe12a9a3feeba7ac785363c4689e1e6f54a2c5ae709203e44e5cf30e\n",
            "  Stored in directory: /root/.cache/pip/wheels/77/8d/b4/8bfce5beea9a3496cc15b24961876adb7b6e2912ff09164179\n",
            "Successfully built fastparquet ConfigSpace openml sacremoses contextvars thrift typing liac-arff\n",
            "\u001b[31mERROR: tensorflow-probability 0.11.0 has requirement cloudpickle==1.3, but you'll have cloudpickle 1.6.0 which is incompatible.\u001b[0m\n",
            "\u001b[31mERROR: gym 0.17.2 has requirement cloudpickle<1.4.0,>=1.2.0, but you'll have cloudpickle 1.6.0 which is incompatible.\u001b[0m\n",
            "\u001b[31mERROR: albumentations 0.1.12 has requirement imgaug<0.2.7,>=0.2.5, but you'll have imgaug 0.2.9 which is incompatible.\u001b[0m\n",
            "Installing collected packages: lightgbm, Pillow, pyaml, scikit-optimize, catboost, sentencepiece, yacs, sacremoses, immutables, contextvars, mccabe, pycodestyle, pyflakes, flake8, portalocker, sacrebleu, tokenizers, autogluon-contrib-nlp, cryptography, pynacl, bcrypt, paramiko, cloudpickle, distributed, gluoncv, thrift, fastparquet, jmespath, botocore, s3transfer, boto3, typing, ConfigSpace, liac-arff, xmltodict, openml, autogluon\n",
            "  Found existing installation: lightgbm 2.2.3\n",
            "    Uninstalling lightgbm-2.2.3:\n",
            "      Successfully uninstalled lightgbm-2.2.3\n",
            "  Found existing installation: Pillow 7.0.0\n",
            "    Uninstalling Pillow-7.0.0:\n",
            "      Successfully uninstalled Pillow-7.0.0\n",
            "  Found existing installation: cloudpickle 1.3.0\n",
            "    Uninstalling cloudpickle-1.3.0:\n",
            "      Successfully uninstalled cloudpickle-1.3.0\n",
            "  Found existing installation: distributed 1.25.3\n",
            "    Uninstalling distributed-1.25.3:\n",
            "      Successfully uninstalled distributed-1.25.3\n",
            "Successfully installed ConfigSpace-0.4.10 Pillow-6.2.1 autogluon-0.0.14 autogluon-contrib-nlp-0.0.1b20200815 bcrypt-3.2.0 boto3-1.15.12 botocore-1.18.12 catboost-0.24.1 cloudpickle-1.6.0 contextvars-2.4 cryptography-3.1.1 distributed-2.29.0 fastparquet-0.4.1 flake8-3.8.4 gluoncv-0.8.0 immutables-0.14 jmespath-0.10.0 liac-arff-2.5.0 lightgbm-3.0.0 mccabe-0.6.1 openml-0.10.2 paramiko-2.7.2 portalocker-2.0.0 pyaml-20.4.0 pycodestyle-2.6.0 pyflakes-2.2.0 pynacl-1.4.0 s3transfer-0.3.3 sacrebleu-1.4.14 sacremoses-0.0.43 scikit-optimize-0.8.1 sentencepiece-0.1.91 thrift-0.13.0 tokenizers-0.8.1 typing-3.7.4.3 xmltodict-0.12.0 yacs-0.1.8\n"
          ],
          "name": "stdout"
        },
        {
          "output_type": "display_data",
          "data": {
            "application/vnd.colab-display-data+json": {
              "pip_warning": {
                "packages": [
                  "PIL",
                  "typing"
                ]
              }
            }
          },
          "metadata": {
            "tags": []
          }
        }
      ]
    },
    {
      "cell_type": "code",
      "metadata": {
        "id": "coQ0tMeP4-Am"
      },
      "source": [
        "import autogluon as ag\n",
        "from autogluon import TabularPrediction as task\n",
        "from sklearn.model_selection import train_test_split\n",
        "import pandas as pd\n"
      ],
      "execution_count": 1,
      "outputs": []
    },
    {
      "cell_type": "markdown",
      "metadata": {
        "id": "WeYPxi0H6k_l"
      },
      "source": [
        "## Importing and creating dataset"
      ]
    },
    {
      "cell_type": "code",
      "metadata": {
        "id": "wNIZAYEi5zNv"
      },
      "source": [
        "data_path = \"/content/drive/My Drive/framingham.csv\"\n",
        "data = pd.read_csv(data_path)"
      ],
      "execution_count": 2,
      "outputs": []
    },
    {
      "cell_type": "code",
      "metadata": {
        "id": "q7aLLzuL9_sm"
      },
      "source": [
        "y = data.TenYearCHD\n",
        "X = data.drop('TenYearCHD', axis=1)"
      ],
      "execution_count": 4,
      "outputs": []
    },
    {
      "cell_type": "code",
      "metadata": {
        "id": "lDbxtClc-FPL"
      },
      "source": [
        "train,test = train_test_split(data,test_size=0.3)"
      ],
      "execution_count": 5,
      "outputs": []
    },
    {
      "cell_type": "markdown",
      "metadata": {
        "id": "OxxuZbkoEWqz"
      },
      "source": [
        "[‘accuracy’, ‘balanced_accuracy’, ‘f1’, ‘f1_macro’, ‘f1_micro’, ‘f1_weighted’, ‘roc_auc’, ‘average_precision’, ‘precision’, ‘precision_macro’, ‘precision_micro’, ‘precision_weighted’, ‘recall’, ‘recall_macro’, ‘recall_micro’, ‘recall_weighted’, ‘log_loss’, ‘pac_score’]"
      ]
    },
    {
      "cell_type": "code",
      "metadata": {
        "id": "yJklWa-T53GX",
        "outputId": "d1de72c7-cf31-4c9a-b9df-bfd2d3289b8c",
        "colab": {
          "base_uri": "https://localhost:8080/",
          "height": 1000
        }
      },
      "source": [
        "train_data = task.Dataset(train)\n",
        "predictor = task.fit(train_data=train, label='TenYearCHD',auto_stack=True,eval_metric=\"accuracy\")\n",
        "# Total 5 mins 5 sec"
      ],
      "execution_count": 6,
      "outputs": [
        {
          "output_type": "stream",
          "text": [
            "No output_directory specified. Models will be saved in: AutogluonModels/ag-20201006_095739/\n",
            "Beginning AutoGluon training ...\n",
            "AutoGluon will save models to AutogluonModels/ag-20201006_095739/\n",
            "AutoGluon Version:  0.0.14\n",
            "Train Data Rows:    2968\n",
            "Train Data Columns: 15\n",
            "Preprocessing data ...\n",
            "AutoGluon infers your prediction problem is: 'binary' (because only two unique label-values observed).\n",
            "\t2 unique label values:  [0, 1]\n",
            "\tIf 'binary' is not the correct problem_type, please manually specify the problem_type argument in fit() (You may specify problem_type as one of: ['binary', 'multiclass', 'regression'])\n",
            "NumExpr defaulting to 2 threads.\n",
            "Selected class <--> label mapping:  class 1 = 1, class 0 = 0\n",
            "Using Feature Generators to preprocess the data ...\n",
            "Fitting AutoMLPipelineFeatureGenerator...\n",
            "\tAvailable Memory:                    12680.78 MB\n",
            "\tTrain Data (Original)  Memory Usage: 0.38 MB (0.0% of available memory)\n",
            "\tInferring data type of each feature based on column values. Set feature_metadata_in to manually specify special dtypes of the features.\n",
            "\tStage 1 Generators:\n",
            "\t\tFitting AsTypeFeatureGenerator...\n",
            "\tStage 2 Generators:\n",
            "\t\tFitting FillNaFeatureGenerator...\n",
            "\tStage 3 Generators:\n",
            "\t\tFitting IdentityFeatureGenerator...\n",
            "\tStage 4 Generators:\n",
            "\t\tFitting DropUniqueFeatureGenerator...\n",
            "\tTypes of features in original data (raw dtype, special dtypes):\n",
            "\t\t('float', []) : 9 | ['education', 'cigsPerDay', 'BPMeds', 'totChol', 'sysBP', ...]\n",
            "\t\t('int', [])   : 6 | ['male', 'age', 'currentSmoker', 'prevalentStroke', 'prevalentHyp', ...]\n",
            "\tTypes of features in processed data (raw dtype, special dtypes):\n",
            "\t\t('float', []) : 9 | ['education', 'cigsPerDay', 'BPMeds', 'totChol', 'sysBP', ...]\n",
            "\t\t('int', [])   : 6 | ['male', 'age', 'currentSmoker', 'prevalentStroke', 'prevalentHyp', ...]\n",
            "\t0.0s = Fit runtime\n",
            "\t15 features in original data used to generate 15 features in processed data.\n",
            "\tTrain Data (Processed) Memory Usage: 0.38 MB (0.0% of available memory)\n",
            "Data preprocessing and feature engineering runtime = 0.09s ...\n",
            "AutoGluon will gauge predictive performance using evaluation metric: 'accuracy'\n",
            "\tTo change this, specify the eval_metric argument of fit()\n",
            "AutoGluon will early stop models using evaluation metric: 'accuracy'\n",
            "Fitting model: RandomForestClassifierGini_STACKER_l0 ...\n",
            "\t0.8504\t = Validation accuracy score\n",
            "\t9.0s\t = Training runtime\n",
            "\t1.02s\t = Validation runtime\n",
            "Fitting model: RandomForestClassifierEntr_STACKER_l0 ...\n",
            "\t0.8501\t = Validation accuracy score\n",
            "\t10.23s\t = Training runtime\n",
            "\t1.02s\t = Validation runtime\n",
            "Fitting model: ExtraTreesClassifierGini_STACKER_l0 ...\n",
            "\t0.8511\t = Validation accuracy score\n",
            "\t6.01s\t = Training runtime\n",
            "\t1.02s\t = Validation runtime\n",
            "Fitting model: ExtraTreesClassifierEntr_STACKER_l0 ...\n",
            "\t0.8501\t = Validation accuracy score\n",
            "\t7.06s\t = Training runtime\n",
            "\t1.02s\t = Validation runtime\n",
            "Fitting model: KNeighborsClassifierUnif_STACKER_l0 ...\n",
            "\t0.8379\t = Validation accuracy score\n",
            "\t0.07s\t = Training runtime\n",
            "\t1.02s\t = Validation runtime\n",
            "Fitting model: KNeighborsClassifierDist_STACKER_l0 ...\n",
            "\t0.8386\t = Validation accuracy score\n",
            "\t0.05s\t = Training runtime\n",
            "\t1.02s\t = Validation runtime\n",
            "Fitting model: LightGBMClassifier_STACKER_l0 ...\n",
            "\t0.8561\t = Validation accuracy score\n",
            "\t2.16s\t = Training runtime\n",
            "\t0.02s\t = Validation runtime\n",
            "Fitting model: LightGBMClassifierXT_STACKER_l0 ...\n",
            "\t0.8615\t = Validation accuracy score\n",
            "\t2.04s\t = Training runtime\n",
            "\t0.03s\t = Validation runtime\n",
            "Fitting model: CatboostClassifier_STACKER_l0 ...\n",
            "\t0.8595\t = Validation accuracy score\n",
            "\t3.81s\t = Training runtime\n",
            "\t0.02s\t = Validation runtime\n",
            "Fitting model: NeuralNetClassifier_STACKER_l0 ...\n",
            "\t0.8582\t = Validation accuracy score\n",
            "\t56.82s\t = Training runtime\n",
            "\t0.15s\t = Validation runtime\n",
            "Fitting model: LightGBMClassifierCustom_STACKER_l0 ...\n",
            "\t0.8551\t = Validation accuracy score\n",
            "\t5.87s\t = Training runtime\n",
            "\t0.03s\t = Validation runtime\n",
            "Fitting model: weighted_ensemble_k0_l1 ...\n",
            "\t0.8615\t = Validation accuracy score\n",
            "\t1.14s\t = Training runtime\n",
            "\t0.01s\t = Validation runtime\n",
            "Fitting model: RandomForestClassifierGini_STACKER_l1 ...\n",
            "\t0.8602\t = Validation accuracy score\n",
            "\t13.03s\t = Training runtime\n",
            "\t1.02s\t = Validation runtime\n",
            "Fitting model: RandomForestClassifierEntr_STACKER_l1 ...\n",
            "\t0.8592\t = Validation accuracy score\n",
            "\t18.05s\t = Training runtime\n",
            "\t1.02s\t = Validation runtime\n",
            "Fitting model: ExtraTreesClassifierGini_STACKER_l1 ...\n",
            "\t0.8578\t = Validation accuracy score\n",
            "\t7.87s\t = Training runtime\n",
            "\t1.02s\t = Validation runtime\n",
            "Fitting model: ExtraTreesClassifierEntr_STACKER_l1 ...\n",
            "\t0.8598\t = Validation accuracy score\n",
            "\t8.07s\t = Training runtime\n",
            "\t1.02s\t = Validation runtime\n",
            "Fitting model: KNeighborsClassifierUnif_STACKER_l1 ...\n",
            "\t0.8376\t = Validation accuracy score\n",
            "\t0.07s\t = Training runtime\n",
            "\t1.02s\t = Validation runtime\n",
            "Fitting model: KNeighborsClassifierDist_STACKER_l1 ...\n",
            "\t0.8376\t = Validation accuracy score\n",
            "\t0.07s\t = Training runtime\n",
            "\t1.02s\t = Validation runtime\n",
            "Fitting model: LightGBMClassifier_STACKER_l1 ...\n",
            "\t0.8652\t = Validation accuracy score\n",
            "\t3.45s\t = Training runtime\n",
            "\t0.03s\t = Validation runtime\n",
            "Fitting model: LightGBMClassifierXT_STACKER_l1 ...\n",
            "\t0.8632\t = Validation accuracy score\n",
            "\t2.56s\t = Training runtime\n",
            "\t0.03s\t = Validation runtime\n",
            "Fitting model: CatboostClassifier_STACKER_l1 ...\n",
            "\t0.8635\t = Validation accuracy score\n",
            "\t6.91s\t = Training runtime\n",
            "\t0.02s\t = Validation runtime\n",
            "Fitting model: NeuralNetClassifier_STACKER_l1 ...\n",
            "\t0.8608\t = Validation accuracy score\n",
            "\t61.83s\t = Training runtime\n",
            "\t0.21s\t = Validation runtime\n",
            "Fitting model: LightGBMClassifierCustom_STACKER_l1 ...\n",
            "\t0.8639\t = Validation accuracy score\n",
            "\t10.42s\t = Training runtime\n",
            "\t0.04s\t = Validation runtime\n",
            "Fitting model: weighted_ensemble_k0_l2 ...\n",
            "\t0.8652\t = Validation accuracy score\n",
            "\t1.14s\t = Training runtime\n",
            "\t0.01s\t = Validation runtime\n",
            "AutoGluon training complete, total runtime = 257.08s ...\n"
          ],
          "name": "stderr"
        }
      ]
    },
    {
      "cell_type": "code",
      "metadata": {
        "id": "79ngIkFs6Ws4"
      },
      "source": [
        "test_data = task.Dataset(test)\n",
        "y_test = test_data['TenYearCHD']\n",
        "test_data_nolabel = test_data.drop(labels=['TenYearCHD'],axis=1)"
      ],
      "execution_count": 7,
      "outputs": []
    },
    {
      "cell_type": "code",
      "metadata": {
        "id": "bQBHtmPI-5rg"
      },
      "source": [
        "y_pred = predictor.predict(test_data_nolabel)\n"
      ],
      "execution_count": 8,
      "outputs": []
    },
    {
      "cell_type": "code",
      "metadata": {
        "id": "MaJRTPbRqDOc",
        "outputId": "bb3fbd87-4f1e-406a-c990-93848f632042",
        "colab": {
          "base_uri": "https://localhost:8080/",
          "height": 646
        }
      },
      "source": [
        "performance = predictor.evaluate_predictions(y_true=y_test,y_pred=y_pred,auxiliary_metrics=True)\n",
        "\n",
        "#y_pred_proba = predictor.predict_proba(test_data_nolabel)\n",
        "#print(list(y_pred[:5]))\n",
        "#print(list(y_pred_proba[:5])) \n",
        "\n",
        "# Total Time : 15 sec"
      ],
      "execution_count": 9,
      "outputs": [
        {
          "output_type": "stream",
          "text": [
            "Evaluation: accuracy on test data: 0.8427672955974843\n",
            "Evaluations on test data:\n",
            "{\n",
            "    \"accuracy\": 0.8427672955974843,\n",
            "    \"accuracy_score\": 0.8427672955974843,\n",
            "    \"balanced_accuracy_score\": 0.512591106094179,\n",
            "    \"matthews_corrcoef\": 0.09920481630832151,\n",
            "    \"f1_score\": 0.8427672955974843\n",
            "}\n",
            "Detailed (per-class) classification report:\n",
            "{\n",
            "    \"0\": {\n",
            "        \"precision\": 0.845360824742268,\n",
            "        \"recall\": 0.9953314659197012,\n",
            "        \"f1-score\": 0.9142367066895368,\n",
            "        \"support\": 1071\n",
            "    },\n",
            "    \"1\": {\n",
            "        \"precision\": 0.5454545454545454,\n",
            "        \"recall\": 0.029850746268656716,\n",
            "        \"f1-score\": 0.05660377358490566,\n",
            "        \"support\": 201\n",
            "    },\n",
            "    \"accuracy\": 0.8427672955974843,\n",
            "    \"macro avg\": {\n",
            "        \"precision\": 0.6954076850984068,\n",
            "        \"recall\": 0.512591106094179,\n",
            "        \"f1-score\": 0.48542024013722124,\n",
            "        \"support\": 1272\n",
            "    },\n",
            "    \"weighted avg\": {\n",
            "        \"precision\": 0.7979699740057647,\n",
            "        \"recall\": 0.8427672955974843,\n",
            "        \"f1-score\": 0.7787145215055503,\n",
            "        \"support\": 1272\n",
            "    }\n",
            "}\n"
          ],
          "name": "stderr"
        }
      ]
    },
    {
      "cell_type": "code",
      "metadata": {
        "id": "uF_lJNPV8956",
        "outputId": "da334fce-9706-4533-fc8d-ded1d92a32d3",
        "colab": {
          "base_uri": "https://localhost:8080/",
          "height": 632
        }
      },
      "source": [
        "results = predictor.fit_summary()"
      ],
      "execution_count": null,
      "outputs": [
        {
          "output_type": "stream",
          "text": [
            "*** Summary of fit() ***\n",
            "Estimated performance of each model:\n",
            "                                    model  score_val  pred_time_val    fit_time  pred_time_val_marginal  fit_time_marginal  stack_level  can_infer  fit_order\n",
            "0                 weighted_ensemble_k0_l2   0.857480       9.040414  192.588522                0.006470           1.447283            2       True         22\n",
            "1           LightGBMClassifier_STACKER_l1   0.857143       6.840615  147.841048                0.070389           5.800451            1       True         18\n",
            "2           CatboostClassifier_STACKER_l1   0.856806       6.834729  152.955706                0.064503          10.915109            1       True         19\n",
            "3     LightGBMClassifierCustom_STACKER_l1   0.855795       6.852466  163.072498                0.082240          21.031901            1       True         21\n",
            "4   RandomForestClassifierEntr_STACKER_l1   0.855458       7.868326  166.865559                1.098100          24.824962            1       True         13\n",
            "5   RandomForestClassifierGini_STACKER_l1   0.854447       7.865454  160.515826                1.095228          18.475229            1       True         12\n",
            "6           CatboostClassifier_STACKER_l0   0.854111       0.050408    6.357478                0.050408           6.357478            0       True          8\n",
            "7                 weighted_ensemble_k0_l1   0.854111       0.057530    7.832516                0.007122           1.475039            1       True         11\n",
            "8           LightGBMClassifier_STACKER_l0   0.853774       0.062281    3.907573                0.062281           3.907573            0       True          7\n",
            "9          NeuralNetClassifier_STACKER_l1   0.852426       7.035604  230.993892                0.265378          88.953295            1       True         20\n",
            "10         NeuralNetClassifier_STACKER_l0   0.851415       0.199353   74.811594                0.199353          74.811594            0       True          9\n",
            "11    ExtraTreesClassifierGini_STACKER_l1   0.850741       7.866424  151.982830                1.096198           9.942233            1       True         14\n",
            "12    LightGBMClassifierCustom_STACKER_l0   0.849730       0.064311    9.956459                0.064311           9.956459            0       True         10\n",
            "13    ExtraTreesClassifierEntr_STACKER_l1   0.848383       7.971996  153.686737                1.201770          11.646140            1       True         15\n",
            "14  RandomForestClassifierEntr_STACKER_l0   0.848046       1.082139   14.759146                1.082139          14.759146            0       True          2\n",
            "15    ExtraTreesClassifierGini_STACKER_l0   0.847372       1.084097    9.327802                1.084097           9.327802            0       True          3\n",
            "16  RandomForestClassifierGini_STACKER_l0   0.846361       1.083139   12.264009                1.083139          12.264009            0       True          1\n",
            "17    ExtraTreesClassifierEntr_STACKER_l0   0.845350       1.083774   10.500225                1.083774          10.500225            0       True          4\n",
            "18    KNeighborsClassifierDist_STACKER_l0   0.830189       1.031806    0.080110                1.031806           0.080110            0       True          6\n",
            "19    KNeighborsClassifierUnif_STACKER_l0   0.829852       1.028918    0.076203                1.028918           0.076203            0       True          5\n",
            "20    KNeighborsClassifierDist_STACKER_l1   0.829515       7.799825  142.139905                1.029599           0.099308            1       True         17\n",
            "21    KNeighborsClassifierUnif_STACKER_l1   0.828504       7.802547  142.153852                1.032320           0.113255            1       True         16\n",
            "Number of models trained: 22\n",
            "Types of models trained:\n",
            "{'StackerEnsembleModel_LGB', 'StackerEnsembleModel_Catboost', 'WeightedEnsembleModel', 'StackerEnsembleModel_KNN', 'StackerEnsembleModel_XT', 'StackerEnsembleModel_RF', 'StackerEnsembleModel_TabularNeuralNet'}\n",
            "Bagging used: True  (with 10 folds)\n",
            "Stack-ensembling used: True  (with 1 levels)\n",
            "Hyperparameter-tuning used: False \n",
            "User-specified hyperparameters:\n",
            "{'default': {'NN': [{}], 'GBM': [{}], 'CAT': [{}], 'RF': [{'criterion': 'gini', 'AG_args': {'name_suffix': 'Gini', 'problem_types': ['binary', 'multiclass']}}, {'criterion': 'entropy', 'AG_args': {'name_suffix': 'Entr', 'problem_types': ['binary', 'multiclass']}}], 'XT': [{'criterion': 'gini', 'AG_args': {'name_suffix': 'Gini', 'problem_types': ['binary', 'multiclass']}}, {'criterion': 'entropy', 'AG_args': {'name_suffix': 'Entr', 'problem_types': ['binary', 'multiclass']}}], 'KNN': [{'weights': 'uniform', 'AG_args': {'name_suffix': 'Unif'}}, {'weights': 'distance', 'AG_args': {'name_suffix': 'Dist'}}], 'custom': [{'num_boost_round': 10000, 'num_threads': -1, 'objective': 'binary', 'verbose': -1, 'boosting_type': 'gbdt', 'learning_rate': 0.03, 'num_leaves': 128, 'feature_fraction': 0.9, 'min_data_in_leaf': 5, 'two_round': True, 'seed_value': 0, 'AG_args': {'model_type': 'GBM', 'name_suffix': 'Custom', 'disable_in_hpo': True}}]}}\n",
            "Plot summary of models saved to file: AutogluonModels/ag-20200905_073201/SummaryOfModels.html\n",
            "*** End of fit() summary ***\n"
          ],
          "name": "stdout"
        }
      ]
    },
    {
      "cell_type": "code",
      "metadata": {
        "id": "HoQnMPam_I9k",
        "outputId": "7d74b748-1984-4fe6-bf10-ec67f6539ac3",
        "colab": {
          "base_uri": "https://localhost:8080/",
          "height": 428
        }
      },
      "source": [
        "leaderboard = predictor.leaderboard(test_data)"
      ],
      "execution_count": null,
      "outputs": [
        {
          "output_type": "stream",
          "text": [
            "                                    model  score_test  score_val  pred_time_test  pred_time_val    fit_time  pred_time_test_marginal  pred_time_val_marginal  fit_time_marginal  stack_level  can_infer  fit_order\n",
            "0          NeuralNetClassifier_STACKER_l1    0.860063   0.852426       12.143058       7.035604  230.993892                 0.825778                0.265378          88.953295            1       True         20\n",
            "1          NeuralNetClassifier_STACKER_l0    0.858491   0.851415        0.618822       0.199353   74.811594                 0.618822                0.199353          74.811594            0       True          9\n",
            "2     ExtraTreesClassifierGini_STACKER_l1    0.856132   0.850741       13.729651       7.866424  151.982830                 2.412372                1.096198           9.942233            1       True         14\n",
            "3     ExtraTreesClassifierEntr_STACKER_l1    0.856132   0.848383       13.748979       7.971996  153.686737                 2.431699                1.201770          11.646140            1       True         15\n",
            "4   RandomForestClassifierGini_STACKER_l0    0.854560   0.846361        1.455954       1.083139   12.264009                 1.455954                1.083139          12.264009            0       True          1\n",
            "5   RandomForestClassifierEntr_STACKER_l0    0.854560   0.848046        1.754457       1.082139   14.759146                 1.754457                1.082139          14.759146            0       True          2\n",
            "6           CatboostClassifier_STACKER_l1    0.854560   0.856806       11.345110       6.834729  152.955706                 0.027830                0.064503          10.915109            1       True         19\n",
            "7   RandomForestClassifierGini_STACKER_l1    0.854560   0.854447       12.939373       7.865454  160.515826                 1.622093                1.095228          18.475229            1       True         12\n",
            "8   RandomForestClassifierEntr_STACKER_l1    0.854560   0.855458       13.034111       7.868326  166.865559                 1.716831                1.098100          24.824962            1       True         13\n",
            "9     ExtraTreesClassifierGini_STACKER_l0    0.853774   0.847372        2.547702       1.084097    9.327802                 2.547702                1.084097           9.327802            0       True          3\n",
            "10    ExtraTreesClassifierEntr_STACKER_l0    0.853774   0.845350        2.554479       1.083774   10.500225                 2.554479                1.083774          10.500225            0       True          4\n",
            "11          CatboostClassifier_STACKER_l0    0.852987   0.854111        0.020511       0.050408    6.357478                 0.020511                0.050408           6.357478            0       True          8\n",
            "12                weighted_ensemble_k0_l1    0.852987   0.854111        0.022876       0.057530    7.832516                 0.002365                0.007122           1.475039            1       True         11\n",
            "13          LightGBMClassifier_STACKER_l0    0.852987   0.853774        0.128582       0.062281    3.907573                 0.128582                0.062281           3.907573            0       True          7\n",
            "14    LightGBMClassifierCustom_STACKER_l0    0.852987   0.849730        0.168885       0.064311    9.956459                 0.168885                0.064311           9.956459            0       True         10\n",
            "15          LightGBMClassifier_STACKER_l1    0.852987   0.857143       11.430416       6.840615  147.841048                 0.113136                0.070389           5.800451            1       True         18\n",
            "16    LightGBMClassifierCustom_STACKER_l1    0.852987   0.855795       11.544681       6.852466  163.072498                 0.227401                0.082240          21.031901            1       True         21\n",
            "17                weighted_ensemble_k0_l2    0.852987   0.857480       14.772500       9.040414  192.588522                 0.003160                0.006470           1.447283            2       True         22\n",
            "18    KNeighborsClassifierDist_STACKER_l0    0.841981   0.830189        1.034169       1.031806    0.080110                 1.034169                1.031806           0.080110            0       True          6\n",
            "19    KNeighborsClassifierDist_STACKER_l1    0.841981   0.829515       12.357098       7.799825  142.139905                 1.039819                1.029599           0.099308            1       True         17\n",
            "20    KNeighborsClassifierUnif_STACKER_l0    0.841195   0.829852        1.033720       1.028918    0.076203                 1.033720                1.028918           0.076203            0       True          5\n",
            "21    KNeighborsClassifierUnif_STACKER_l1    0.841195   0.828504       12.356203       7.802547  142.153852                 1.038923                1.032320           0.113255            1       True         16\n"
          ],
          "name": "stdout"
        }
      ]
    },
    {
      "cell_type": "code",
      "metadata": {
        "id": "hPT63wA1_Zlj"
      },
      "source": [
        "# TOTAL TIME TAKEN IS 5 MIN 15 SEC"
      ],
      "execution_count": null,
      "outputs": []
    },
    {
      "cell_type": "code",
      "metadata": {
        "id": "nCEThDViG42F"
      },
      "source": [
        ""
      ],
      "execution_count": null,
      "outputs": []
    }
  ]
}