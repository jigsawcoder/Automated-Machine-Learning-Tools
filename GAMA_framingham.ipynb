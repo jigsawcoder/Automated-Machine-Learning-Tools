{
  "nbformat": 4,
  "nbformat_minor": 0,
  "metadata": {
    "colab": {
      "name": "GAMA_framingham.ipynb",
      "provenance": [],
      "collapsed_sections": [],
      "mount_file_id": "1iHot2iyTBfWwb1e0q2wcWtwJNYHeNzKr",
      "authorship_tag": "ABX9TyP85Mykfqfce5cuxs7OSIOt",
      "include_colab_link": true
    },
    "kernelspec": {
      "name": "python3",
      "display_name": "Python 3"
    }
  },
  "cells": [
    {
      "cell_type": "markdown",
      "metadata": {
        "id": "view-in-github",
        "colab_type": "text"
      },
      "source": [
        "<a href=\"https://colab.research.google.com/github/jigsawcoder/Automated-Machine-Learning-Tools/blob/master/GAMA_framingham.ipynb\" target=\"_parent\"><img src=\"https://colab.research.google.com/assets/colab-badge.svg\" alt=\"Open In Colab\"/></a>"
      ]
    },
    {
      "cell_type": "code",
      "metadata": {
        "id": "HxTJxffwpKX2",
        "colab_type": "code",
        "colab": {
          "base_uri": "https://localhost:8080/",
          "height": 408
        },
        "outputId": "89a59303-a788-4b53-bd68-3b6bb17d9d75"
      },
      "source": [
        "pip install gama\n"
      ],
      "execution_count": null,
      "outputs": [
        {
          "output_type": "stream",
          "text": [
            "Requirement already satisfied: gama in /usr/local/lib/python3.6/dist-packages (20.2.2)\n",
            "Requirement already satisfied: numpy>=1.14.0 in /usr/local/lib/python3.6/dist-packages (from gama) (1.18.5)\n",
            "Requirement already satisfied: stopit>=1.1.1 in /usr/local/lib/python3.6/dist-packages (from gama) (1.1.2)\n",
            "Requirement already satisfied: black==19.10b0 in /usr/local/lib/python3.6/dist-packages (from gama) (19.10b0)\n",
            "Requirement already satisfied: pandas<1.1,>=1.0 in /usr/local/lib/python3.6/dist-packages (from gama) (1.0.5)\n",
            "Requirement already satisfied: category-encoders>=1.2.8 in /usr/local/lib/python3.6/dist-packages (from gama) (2.2.2)\n",
            "Requirement already satisfied: scikit-learn>=0.20.0 in /usr/local/lib/python3.6/dist-packages (from gama) (0.22.2.post1)\n",
            "Requirement already satisfied: psutil in /usr/local/lib/python3.6/dist-packages (from gama) (5.4.8)\n",
            "Requirement already satisfied: liac-arff>=2.2.2 in /usr/local/lib/python3.6/dist-packages (from gama) (2.5.0)\n",
            "Requirement already satisfied: scipy>=1.0.0 in /usr/local/lib/python3.6/dist-packages (from gama) (1.4.1)\n",
            "Requirement already satisfied: toml>=0.9.4 in /usr/local/lib/python3.6/dist-packages (from black==19.10b0->gama) (0.10.1)\n",
            "Requirement already satisfied: pathspec<1,>=0.6 in /usr/local/lib/python3.6/dist-packages (from black==19.10b0->gama) (0.8.0)\n",
            "Requirement already satisfied: attrs>=18.1.0 in /usr/local/lib/python3.6/dist-packages (from black==19.10b0->gama) (20.1.0)\n",
            "Requirement already satisfied: typed-ast>=1.4.0 in /usr/local/lib/python3.6/dist-packages (from black==19.10b0->gama) (1.4.1)\n",
            "Requirement already satisfied: appdirs in /usr/local/lib/python3.6/dist-packages (from black==19.10b0->gama) (1.4.4)\n",
            "Requirement already satisfied: click>=6.5 in /usr/local/lib/python3.6/dist-packages (from black==19.10b0->gama) (7.1.2)\n",
            "Requirement already satisfied: regex in /usr/local/lib/python3.6/dist-packages (from black==19.10b0->gama) (2019.12.20)\n",
            "Requirement already satisfied: python-dateutil>=2.6.1 in /usr/local/lib/python3.6/dist-packages (from pandas<1.1,>=1.0->gama) (2.8.1)\n",
            "Requirement already satisfied: pytz>=2017.2 in /usr/local/lib/python3.6/dist-packages (from pandas<1.1,>=1.0->gama) (2018.9)\n",
            "Requirement already satisfied: statsmodels>=0.9.0 in /usr/local/lib/python3.6/dist-packages (from category-encoders>=1.2.8->gama) (0.10.2)\n",
            "Requirement already satisfied: patsy>=0.5.1 in /usr/local/lib/python3.6/dist-packages (from category-encoders>=1.2.8->gama) (0.5.1)\n",
            "Requirement already satisfied: joblib>=0.11 in /usr/local/lib/python3.6/dist-packages (from scikit-learn>=0.20.0->gama) (0.16.0)\n",
            "Requirement already satisfied: six>=1.5 in /usr/local/lib/python3.6/dist-packages (from python-dateutil>=2.6.1->pandas<1.1,>=1.0->gama) (1.15.0)\n"
          ],
          "name": "stdout"
        }
      ]
    },
    {
      "cell_type": "code",
      "metadata": {
        "id": "UgKDIBDXpOpD",
        "colab_type": "code",
        "colab": {
          "base_uri": "https://localhost:8080/",
          "height": 71
        },
        "outputId": "796a158c-0cde-4a1e-835b-df2272df7567"
      },
      "source": [
        "import gama\n",
        "from gama import GamaClassifier\n",
        "from sklearn.model_selection import train_test_split\n",
        "from sklearn.metrics import *\n",
        "import pandas as pd\n"
      ],
      "execution_count": null,
      "outputs": [
        {
          "output_type": "stream",
          "text": [
            "/usr/local/lib/python3.6/dist-packages/statsmodels/tools/_testing.py:19: FutureWarning: pandas.util.testing is deprecated. Use the functions in the public API at pandas.testing instead.\n",
            "  import pandas.util.testing as tm\n"
          ],
          "name": "stderr"
        }
      ]
    },
    {
      "cell_type": "code",
      "metadata": {
        "id": "WSgwXGLmpZh9",
        "colab_type": "code",
        "colab": {}
      },
      "source": [
        "data_path = \"/content/drive/My Drive/framingham.csv\"\n",
        "data = pd.read_csv(data_path)"
      ],
      "execution_count": null,
      "outputs": []
    },
    {
      "cell_type": "code",
      "metadata": {
        "id": "9F_z86f4qa3n",
        "colab_type": "code",
        "colab": {}
      },
      "source": [
        "y = data.TenYearCHD\n",
        "X = data.drop('TenYearCHD', axis=1)"
      ],
      "execution_count": null,
      "outputs": []
    },
    {
      "cell_type": "code",
      "metadata": {
        "id": "VRlT0iLNp7L2",
        "colab_type": "code",
        "colab": {}
      },
      "source": [
        "X_train, X_test, y_train, y_test = train_test_split(X,y,test_size=0.3)"
      ],
      "execution_count": null,
      "outputs": []
    },
    {
      "cell_type": "markdown",
      "metadata": {
        "id": "UlXm7ijdLVre",
        "colab_type": "text"
      },
      "source": [
        "List of matrics :\n",
        "\n",
        "https://scikit-learn.org/stable/modules/model_evaluation.html#scoring-parameter"
      ]
    },
    {
      "cell_type": "code",
      "metadata": {
        "id": "mlJfGG1Xq6Jq",
        "colab_type": "code",
        "colab": {}
      },
      "source": [
        "automl = GamaClassifier(max_total_time=300, n_jobs=1,scoring='accuracy')\n",
        "automl.fit(X_train, y_train)\n",
        "# Time taken : 4 min 30 sec"
      ],
      "execution_count": null,
      "outputs": []
    },
    {
      "cell_type": "code",
      "metadata": {
        "id": "oLtyK_Eiq7rb",
        "colab_type": "code",
        "colab": {}
      },
      "source": [
        "label_predictions = automl.predict(X_test)\n",
        "probability_predictions = automl.predict_proba(X_test)"
      ],
      "execution_count": null,
      "outputs": []
    },
    {
      "cell_type": "code",
      "metadata": {
        "id": "GpjK2_cEs1BH",
        "colab_type": "code",
        "colab": {
          "base_uri": "https://localhost:8080/",
          "height": 34
        },
        "outputId": "8e2bdbe9-5d69-4ba6-fe61-f9677938bb37"
      },
      "source": [
        "print(\"accuracy:\", accuracy_score(y_test, label_predictions))\n"
      ],
      "execution_count": null,
      "outputs": [
        {
          "output_type": "stream",
          "text": [
            "accuracy: 0.8498427672955975\n"
          ],
          "name": "stdout"
        }
      ]
    },
    {
      "cell_type": "code",
      "metadata": {
        "id": "LxUVRscEtEXQ",
        "colab_type": "code",
        "colab": {}
      },
      "source": [
        ""
      ],
      "execution_count": null,
      "outputs": []
    }
  ]
}